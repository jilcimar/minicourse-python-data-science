{
 "cells": [
  {
   "cell_type": "markdown",
   "metadata": {},
   "source": [
    "# Prática de k-NN"
   ]
  },
  {
   "cell_type": "markdown",
   "metadata": {},
   "source": [
    "Nesta prática, deseja-se realizar o reconhecimento ótico de números (ONR) de um *dataset* com 500 instâncias de dados, sendo as classes os números 0-9, cada uma possuindo 50 exemplos.\n",
    "\n",
    "Caminho do *dataset*: **dataset/onr/dataset.csv**\n",
    "\n",
    "Siga as instruções abaixo, completando com os trechos de código necessários. (**Hint**: *Use o notebook da aula como referência*)."
   ]
  },
  {
   "cell_type": "markdown",
   "metadata": {},
   "source": [
    "<div class=\"alert alert-info\">\n",
    "<b>Exercise Start.</b>\n",
    "</div>"
   ]
  },
  {
   "cell_type": "code",
   "execution_count": 2,
   "metadata": {},
   "outputs": [],
   "source": [
    "# Inclua os imports\n",
    "import pandas as pd\n",
    "from math import sqrt,floor\n",
    "import numpy as np\n",
    "from operator import itemgetter\n",
    "from collections import Counter"
   ]
  },
  {
   "cell_type": "code",
   "execution_count": 7,
   "metadata": {},
   "outputs": [
    {
     "name": "stdout",
     "output_type": "stream",
     "text": [
      "[0 1 2 3 4 5 6 7 8 9]\n"
     ]
    }
   ],
   "source": [
    "# Leia o dataset\n",
    "dataset = pd.read_csv(\"dataset/onr/dataset.csv\", header = None)\n",
    "# Defina o índice da classe\n",
    "class_coluna = len(dataset.columns) -1\n",
    "\n",
    "#Verificando os dados do csv\n",
    "# print (dataset)\n",
    "\n",
    "# Crie uma lista com os nomes das classes\n",
    "lista_tipos = pd.unique(dataset[class_coluna])\n",
    "print (lista_tipos)"
   ]
  },
  {
   "cell_type": "code",
   "execution_count": 15,
   "metadata": {},
   "outputs": [],
   "source": [
    "# Codifique pelo menos uma função para calcular a distância\n",
    "def distancia (p, q):\n",
    "    if len(p) != len(q):\n",
    "        return -1\n",
    "    soma_local = 0\n",
    "    for i in range(0, len(p)):\n",
    "        soma_local+= pow(q[i] - p[i],2)\n",
    "    return sqrt (soma_local)\n",
    "    "
   ]
  },
  {
   "cell_type": "code",
   "execution_count": 16,
   "metadata": {},
   "outputs": [
    {
     "name": "stdout",
     "output_type": "stream",
     "text": [
      "0: 50\n",
      "1: 50\n",
      "2: 50\n",
      "3: 50\n",
      "4: 50\n",
      "5: 50\n",
      "6: 50\n",
      "7: 50\n",
      "8: 50\n",
      "9: 50\n"
     ]
    }
   ],
   "source": [
    "# Defina a variável de representa a porcentagem de treino em relação ao dataset \n",
    "treino_porcentagem = 0.7\n",
    "\n",
    "#Obtendo o número mínimo de instancias por classes\n",
    "# Definindo número mínimo de classes\n",
    "min_classes = len(dataset)\n",
    "for i in lista_tipos:\n",
    "    print( str(i) + ': ' + str(len (dataset.loc[dataset[class_coluna] == i])) )\n",
    "    min_classes = min(min_classes, len (dataset.loc[dataset[class_coluna] == i]))\n",
    "\n",
    "# Separe os dados em um conjunto de treino e de testes, deixando o conjunto de testes com pelo menos 10% dos dados\n",
    "treinoset = dataset.loc[dataset[class_coluna] == lista_tipos[0]][0:floor(treino_porcentagem*min_classes)]\n",
    "testeset   = dataset.loc[dataset[class_coluna] == lista_tipos[0]][floor(treino_porcentagem*min_classes):]\n",
    "\n"
   ]
  },
  {
   "cell_type": "code",
   "execution_count": 18,
   "metadata": {},
   "outputs": [],
   "source": [
    "# Crie a função de classificação\n",
    "def knn (k, treino, elemento, funcao):\n",
    "    distancia = []\n",
    "    \n",
    "    local_class_coluna = len (treino.columns)-1\n",
    "    \n",
    "    for _, row in treino.iterrows():\n",
    "        distancia.append((funcao(row[0:local_class_coluna], elemento[0:local_class_coluna]), row[local_class_coluna]))\n",
    "    distancia = sorted(distancia)\n",
    "    distancia = [classes[1] for classes in distancia[0:k]]\n",
    "    \n",
    "    #Retornando o número de vetores por classe \n",
    "    most_common = Couter(distancia)\n",
    "    return max(most_common, key=most_common.get)\n",
    "    \n",
    "    "
   ]
  },
  {
   "cell_type": "code",
   "execution_count": 22,
   "metadata": {},
   "outputs": [],
   "source": [
    "# Crie a função que avalia a acurácia do conjunto de testes\n",
    "def acuracia(k, treino, teste, funcao):\n",
    "    acc = 0 \n",
    "    \n",
    "    local_class_coluna = len (treino.columns)-1\n",
    "    \n",
    "    for _, row in teste.iterrows():\n",
    "        if (kenn (k, treino, row, funcao)== row[local_class_coluna]):\n",
    "            acc+=1\n",
    "    return acc/len(teste)"
   ]
  },
  {
   "cell_type": "code",
   "execution_count": 24,
   "metadata": {},
   "outputs": [],
   "source": [
    "# Crie a função que verifica a acurácia para cada 'K' utilizado\n",
    "\n",
    "def acuracia_config(treino, teste, funcao):\n",
    "    for k in range(1, min_classes+1):\n",
    "        print(\"K = \" + str(k) + \", ACC = \" + str(acuracia(k,treino,teste, funcao)))"
   ]
  },
  {
   "cell_type": "code",
   "execution_count": 25,
   "metadata": {},
   "outputs": [
    {
     "ename": "NameError",
     "evalue": "name 'treino' is not defined",
     "output_type": "error",
     "traceback": [
      "\u001b[0;31m---------------------------------------------------------------------------\u001b[0m",
      "\u001b[0;31mNameError\u001b[0m                                 Traceback (most recent call last)",
      "\u001b[0;32m<ipython-input-25-7b725e3796b2>\u001b[0m in \u001b[0;36m<module>\u001b[0;34m()\u001b[0m\n\u001b[1;32m      1\u001b[0m \u001b[0;31m# Execute a função criada para verificar a acurácia para cada 'K' utilizado\u001b[0m\u001b[0;34m\u001b[0m\u001b[0;34m\u001b[0m\u001b[0m\n\u001b[0;32m----> 2\u001b[0;31m \u001b[0macuracia_config\u001b[0m\u001b[0;34m(\u001b[0m\u001b[0mtreino\u001b[0m\u001b[0;34m,\u001b[0m \u001b[0mteste\u001b[0m\u001b[0;34m,\u001b[0m \u001b[0mfuncao\u001b[0m\u001b[0;34m)\u001b[0m\u001b[0;34m\u001b[0m\u001b[0m\n\u001b[0m",
      "\u001b[0;31mNameError\u001b[0m: name 'treino' is not defined"
     ]
    }
   ],
   "source": [
    "# Execute a função criada para verificar a acurácia para cada 'K' utilizado\n",
    "acuracia_config(treinoset, testeset, euclidiana)"
   ]
  },
  {
   "cell_type": "code",
   "execution_count": null,
   "metadata": {},
   "outputs": [],
   "source": []
  }
 ],
 "metadata": {
  "kernelspec": {
   "display_name": "Python 3",
   "language": "python",
   "name": "python3"
  },
  "language_info": {
   "codemirror_mode": {
    "name": "ipython",
    "version": 3
   },
   "file_extension": ".py",
   "mimetype": "text/x-python",
   "name": "python",
   "nbconvert_exporter": "python",
   "pygments_lexer": "ipython3",
   "version": "3.6.4"
  }
 },
 "nbformat": 4,
 "nbformat_minor": 2
}
