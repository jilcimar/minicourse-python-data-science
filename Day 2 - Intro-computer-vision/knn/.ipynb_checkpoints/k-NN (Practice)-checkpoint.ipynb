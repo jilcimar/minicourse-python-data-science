{
 "cells": [
  {
   "cell_type": "markdown",
   "metadata": {},
   "source": [
    "# Pratica de k-NN"
   ]
  },
  {
   "cell_type": "markdown",
   "metadata": {},
   "source": [
    "Nesta prática será deseja-se realizar o reconhecimento ótico de números (ONR) de um dataset com 500 instâncias de dados, sendo as classes os números 0-9, onde cada classe possui 50 exemplos.\n",
    "\n",
    "Caminho do dataset: **dataset/onr/dataset.csv**\n",
    "\n",
    "Siga as intruções abaixo, completando com os trechos de códigos necessários. (**Hint**: *Use o notebook da aula como referência*).\n",
    "<br>\n",
    "<div class=\"alert alert-info\">\n",
    "<b>Exercise Start.</b>\n",
    "</div>"
   ]
  },
  {
   "cell_type": "code",
   "execution_count": 8,
   "metadata": {},
   "outputs": [],
   "source": [
    "# Inclua os imports"
   ]
  },
  {
   "cell_type": "code",
   "execution_count": 9,
   "metadata": {},
   "outputs": [],
   "source": [
    "# Leia o dataset\n",
    "\n",
    "# Defina o índice da classe\n",
    "\n",
    "# Crie o array com os nomes das classes\n"
   ]
  },
  {
   "cell_type": "code",
   "execution_count": 10,
   "metadata": {},
   "outputs": [],
   "source": [
    "# Codifique pelo menos uma função para calcular a distância"
   ]
  },
  {
   "cell_type": "code",
   "execution_count": 11,
   "metadata": {},
   "outputs": [],
   "source": [
    "# Defina a variável de representa a porcentagem de treino em relação ao dataset \n",
    "\n",
    "# Separe os dados em um conjunto de treino e de testes\n",
    "# Deixe o conjunto de testes com pelo menos 10% dos dados\n"
   ]
  },
  {
   "cell_type": "code",
   "execution_count": 12,
   "metadata": {},
   "outputs": [],
   "source": [
    "# Crie a função de classificação"
   ]
  },
  {
   "cell_type": "code",
   "execution_count": 13,
   "metadata": {},
   "outputs": [],
   "source": [
    "# Crie a função que avalia a acurácia do conjunto de testes"
   ]
  },
  {
   "cell_type": "code",
   "execution_count": 14,
   "metadata": {},
   "outputs": [],
   "source": [
    "# Crie a função que verifica a acurácia para cada 'K' utilizado"
   ]
  },
  {
   "cell_type": "code",
   "execution_count": null,
   "metadata": {},
   "outputs": [],
   "source": [
    "# Execute a função criada para verificar a acurácia para cada 'K' utilizado"
   ]
  }
 ],
 "metadata": {
  "kernelspec": {
   "display_name": "Python 3",
   "language": "python",
   "name": "python3"
  },
  "language_info": {
   "codemirror_mode": {
    "name": "ipython",
    "version": 3
   },
   "file_extension": ".py",
   "mimetype": "text/x-python",
   "name": "python",
   "nbconvert_exporter": "python",
   "pygments_lexer": "ipython3",
   "version": "3.6.4"
  }
 },
 "nbformat": 4,
 "nbformat_minor": 2
}
