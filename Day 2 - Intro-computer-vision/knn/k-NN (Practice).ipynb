{
 "cells": [
  {
   "cell_type": "markdown",
   "metadata": {},
   "source": [
    "# Prática de k-NN"
   ]
  },
  {
   "cell_type": "markdown",
   "metadata": {},
   "source": [
    "Nesta prática, deseja-se realizar o reconhecimento ótico de números (ONR) de um *dataset* com 500 instâncias de dados, sendo as classes os números 0-9, cada uma possuindo 50 exemplos.\n",
    "\n",
    "Caminho do *dataset*: **dataset/onr/dataset.csv**\n",
    "\n",
    "Siga as instruções abaixo, completando com os trechos de código necessários. (**Hint**: *Use o notebook da aula como referência*)."
   ]
  },
  {
   "cell_type": "markdown",
   "metadata": {},
   "source": [
    "<div class=\"alert alert-info\">\n",
    "<b>Exercise Start.</b>\n",
    "</div>"
   ]
  },
  {
   "cell_type": "code",
   "execution_count": 1,
   "metadata": {},
   "outputs": [],
   "source": [
    "# Inclua os imports\n",
    "import pandas as pd\n",
    "from math import sqrt,floor\n",
    "import numpy as np\n",
    "from operator import itemgetter\n",
    "from collections import Counter"
   ]
  },
  {
   "cell_type": "code",
   "execution_count": 9,
   "metadata": {},
   "outputs": [
    {
     "name": "stdout",
     "output_type": "stream",
     "text": [
      "     0   1   2   3   4   5   6   7   8   9  ...  55  56  57  58  59  60  61  \\\n",
      "0     0   1   6  15  12   1   0   0   0   7 ...   0   0   0   6  14   7   1   \n",
      "1     0   0  10  16   6   0   0   0   0   7 ...   0   0   0  10  16  15   3   \n",
      "2     0   0  15   2  14  13   2   0   0   0 ...   0   0   0  10  12   5   0   \n",
      "3     0   1  10  15   8   0   0   0   0   6 ...   0   0   0   9  15   8   0   \n",
      "4     0   0   2  13   9   0   0   0   0   0 ...   0   0   0   3  16  14   4   \n",
      "5     0   0   8  16   8   0   0   0   0   1 ...   0   0   0   6  15  14   5   \n",
      "6     0   0   7  14   6   0   0   0   0   5 ...   0   0   0   4  15  11   0   \n",
      "7     0   0  10   8  11   2   0   0   0   0 ...   0   0   0  10  14   5   0   \n",
      "8     0   0   2  12  11   2   0   0   0   1 ...   0   0   0   3  13  16   8   \n",
      "9     0   0   0   8  12   2   0   0   0   0 ...   0   0   0   0  10  13   9   \n",
      "10    0   0   2  13   9   0   0   0   0   2 ...   0   0   0   0  13  16   9   \n",
      "11    0   0   5  16  10   1   0   0   0  11 ...   0   0   0   5  15  16  15   \n",
      "12    0   0   4  11  15   4   0   0   0   3 ...   0   0   0   2  11  13   2   \n",
      "13    0   0   0  11  13   1   0   0   0   2 ...   0   0   0   1  11  13   5   \n",
      "14    0   0   9  15   3   0   0   0   0   1 ...   0   0   0   7  16  16   8   \n",
      "15    0   0   7  11  11   2   0   0   0   0 ...   0   0   0   7  16  12   2   \n",
      "16    0   0   5  13   1   0   0   0   0   0 ...   0   0   0   4  13  15   7   \n",
      "17    0   0   3  15   7   0   0   0   0   0 ...   0   0   0   2  10  15  16   \n",
      "18    0   0   5   8   0   0   0   0   0   0 ...   0   0   0   6  14  14   9   \n",
      "19    0   0   6  11   0   0   0   0   0   1 ...   0   0   0   6  16  16   9   \n",
      "20    0   0   6  16  12   1   0   0   0   0 ...   0   0   0   7  16   7   0   \n",
      "21    0   0   1  13  15   7   0   0   0   0 ...   0   0   0   3  13  16  10   \n",
      "22    0   0   4  15  11   2   0   0   0   0 ...   0   0   0   2  10  16  10   \n",
      "23    0   0   3  12  12   1   0   0   0   0 ...   0   0   0   3  14  12   4   \n",
      "24    0   0  11  15   9   0   0   0   0   0 ...   0   0   0  12  12   3   0   \n",
      "25    0   0   9  16  10   0   0   0   0   0 ...   0   0   0   9  16  15   8   \n",
      "26    0   0   7  15   6   0   0   0   0   0 ...   0   0   0   9  15  10   1   \n",
      "27    0   0   4  12  16   4   0   0   0   0 ...   0   0   0   4  12  13   1   \n",
      "28    0   2  16   9   0   0   0   0   0   2 ...   0   0   3  15  15   8   1   \n",
      "29    0   0   2   7  13   3   0   0   0   0 ...   0   0   0   3  13  14   3   \n",
      "..   ..  ..  ..  ..  ..  ..  ..  ..  ..  .. ...  ..  ..  ..  ..  ..  ..  ..   \n",
      "470   0   0   0   0   6  15  12   0   0   0 ...   0   0   0   0   0   8   8   \n",
      "471   0   0   0   3  11  16  11   0   0   0 ...   0   0   0   0   2  16   5   \n",
      "472   0   0   0   2   9  16   3   0   0   0 ...   0   0   0   0   0  14   3   \n",
      "473   0   0   0   1   8  15  12   0   0   0 ...   0   0   0   0   0  11   1   \n",
      "474   0   0   0   0   5  14   8   0   0   0 ...   0   0   0   0   0   2  15   \n",
      "475   0   0   0   1  11  14  10   0   0   0 ...   0   0   0   0   0  14   7   \n",
      "476   0   0   0   2   9  15  15   0   0   0 ...   0   0   0   0   0  11   9   \n",
      "477   0   0   0   2  11  16  12   0   0   0 ...   0   0   0   0   1  16   5   \n",
      "478   0   0   0   4  12  15   5   0   0   1 ...   0   0   0   0   3  16   2   \n",
      "479   0   0   0   2   8  13  14   2   0   0 ...   0   0   0   0   3  10   0   \n",
      "480   0   0   4  15  13   0   0   0   0   1 ...   0   0   0   3  15  14   7   \n",
      "481   0   0   0   6  10  14   6   0   0   0 ...   0   0   0   0   9  11   0   \n",
      "482   0   0   0   4  10  16  14   0   0   0 ...   0   0   0   0   1  16   8   \n",
      "483   0   0   0   1  10  15   2   0   0   0 ...   0   0   0   0   0  14   0   \n",
      "484   0   0   8  13  16  12   1   0   0   6 ...   0   0   0  10  15   1   0   \n",
      "485   0   0   3  10   8   0   0   0   0   4 ...   0   0   0   7  13   8   0   \n",
      "486   0   0   9  14   7   0   0   0   0   2 ...   0   0   0  10  12   4   0   \n",
      "487   0   2   9  14   8   7   0   0   0  11 ...   0   0   1  13  14   2   0   \n",
      "488   0   0   4  14  15   3   0   0   0   0 ...   0   0   0   6  15  10   1   \n",
      "489   0   0   3  12  13   1   0   0   0   0 ...   0   0   0   6  16  16   6   \n",
      "490   0   0   2  14  15   8   0   0   0   0 ...   0   0   0   4  14  14  13   \n",
      "491   0   0   9  15  14   1   0   0   0   2 ...   0   0   0   9  16  16  16   \n",
      "492   0   0   7  10  13   5   0   0   0   6 ...   0   0   0   9  16  16  12   \n",
      "493   0   0   2  13  13   4   0   0   0   0 ...   0   0   0   2  12  16  16   \n",
      "494   0   0   0   5  12  15   7   0   0   0 ...   0   0   0   2   6  13  15   \n",
      "495   0   0   7  13  12   9   1   0   0   3 ...   0   0   0   9  15  16  16   \n",
      "496   0   0   4  14   5   0   0   0   0   0 ...   4   0   0   5  12  15  12   \n",
      "497   0   0   5  12   6   0   0   0   0   0 ...   0   0   0   5  10  13  12   \n",
      "498   0   2  10  15   8   0   0   0   0   6 ...   0   0   0  12  16  14  11   \n",
      "499   0   0  13  14   4   0   0   0   0   4 ...   0   0   0  12  16  16  10   \n",
      "\n",
      "     62  63  64  \n",
      "0     0   0   0  \n",
      "1     0   0   0  \n",
      "2     0   0   0  \n",
      "3     0   0   0  \n",
      "4     0   0   0  \n",
      "5     0   0   0  \n",
      "6     0   0   0  \n",
      "7     0   0   0  \n",
      "8     0   0   0  \n",
      "9     1   0   0  \n",
      "10    0   0   0  \n",
      "11    1   0   0  \n",
      "12    0   0   0  \n",
      "13    0   0   0  \n",
      "14    0   0   0  \n",
      "15    0   0   0  \n",
      "16    0   0   0  \n",
      "17    7   0   0  \n",
      "18    1   0   0  \n",
      "19    0   0   0  \n",
      "20    0   0   0  \n",
      "21    0   0   0  \n",
      "22    0   0   0  \n",
      "23    0   0   0  \n",
      "24    0   0   0  \n",
      "25    0   0   0  \n",
      "26    0   0   0  \n",
      "27    0   0   0  \n",
      "28    0   0   0  \n",
      "29    0   0   0  \n",
      "..   ..  ..  ..  \n",
      "470   0   0   9  \n",
      "471   0   0   9  \n",
      "472   0   0   9  \n",
      "473   0   0   9  \n",
      "474   0   0   9  \n",
      "475   0   0   9  \n",
      "476   0   0   9  \n",
      "477   0   0   9  \n",
      "478   0   0   9  \n",
      "479   0   0   9  \n",
      "480   1   0   9  \n",
      "481   0   0   9  \n",
      "482   0   0   9  \n",
      "483   0   0   9  \n",
      "484   0   0   9  \n",
      "485   0   0   9  \n",
      "486   0   0   9  \n",
      "487   0   0   9  \n",
      "488   0   0   9  \n",
      "489   0   0   9  \n",
      "490   1   0   9  \n",
      "491   6   0   9  \n",
      "492   3   0   9  \n",
      "493   7   0   9  \n",
      "494   1   0   9  \n",
      "495   1   0   9  \n",
      "496  11   0   9  \n",
      "497   5   0   9  \n",
      "498   0   0   9  \n",
      "499   0   0   9  \n",
      "\n",
      "[500 rows x 65 columns]\n",
      "[0 1 2 3 4 5 6 7 8 9]\n"
     ]
    }
   ],
   "source": [
    "# Leia o dataset\n",
    "dataset = pd.read_csv(\"dataset/onr/dataset.csv\", header = None)\n",
    "# Defina o índice da classe\n",
    "class_coluna = len(dataset.columns) -1\n",
    "\n",
    "#Verificando os dados do csv\n",
    "print (dataset)\n",
    "\n",
    "# Crie uma lista com os nomes das classes\n",
    "lista_tipos = pd.unique(dataset[class_coluna])\n",
    "print (lista_tipos)"
   ]
  },
  {
   "cell_type": "code",
   "execution_count": 11,
   "metadata": {},
   "outputs": [],
   "source": [
    "# Codifique pelo menos uma função para calcular a distância\n",
    "def cal_distance (k, treino, elemento, funcao):\n",
    "    distancia = []\n",
    "    \n",
    "    local_class_coluna = len (treino.columns)-1\n",
    "    \n",
    "    for _, row in treino.iterrows():\n",
    "        distancia.append((funcao(row[0:local_class_coluna], elemento[0:local_class_coluna]), row[local_class_coluna]))\n",
    "    distancia = sorted(distancia)\n",
    "    distancia = [classes[1] for classes in distancia[0:k]]\n",
    "    \n",
    "    #Retornando o número de vetores por classe \n",
    "    most_common = Couter(distancia)\n",
    "    return max(most_common, key=most_common.get)\n",
    "    "
   ]
  },
  {
   "cell_type": "code",
   "execution_count": 13,
   "metadata": {},
   "outputs": [
    {
     "name": "stdout",
     "output_type": "stream",
     "text": [
      "0: 50\n",
      "1: 50\n",
      "2: 50\n",
      "3: 50\n",
      "4: 50\n",
      "5: 50\n",
      "6: 50\n",
      "7: 50\n",
      "8: 50\n",
      "9: 50\n"
     ]
    },
    {
     "ename": "NameError",
     "evalue": "name 'treino_porcentagem' is not defined",
     "output_type": "error",
     "traceback": [
      "\u001b[0;31m---------------------------------------------------------------------------\u001b[0m",
      "\u001b[0;31mNameError\u001b[0m                                 Traceback (most recent call last)",
      "\u001b[0;32m<ipython-input-13-6815c27c8388>\u001b[0m in \u001b[0;36m<module>\u001b[0;34m()\u001b[0m\n\u001b[1;32m     10\u001b[0m \u001b[0;34m\u001b[0m\u001b[0m\n\u001b[1;32m     11\u001b[0m \u001b[0;31m# Separe os dados em um conjunto de treino e de testes, deixando o conjunto de testes com pelo menos 10% dos dados\u001b[0m\u001b[0;34m\u001b[0m\u001b[0;34m\u001b[0m\u001b[0m\n\u001b[0;32m---> 12\u001b[0;31m \u001b[0mtreinotset\u001b[0m \u001b[0;34m=\u001b[0m \u001b[0mdataset\u001b[0m\u001b[0;34m.\u001b[0m\u001b[0mloc\u001b[0m\u001b[0;34m[\u001b[0m\u001b[0mdataset\u001b[0m\u001b[0;34m[\u001b[0m\u001b[0mclass_coluna\u001b[0m\u001b[0;34m]\u001b[0m \u001b[0;34m==\u001b[0m \u001b[0mlista_tipos\u001b[0m\u001b[0;34m[\u001b[0m\u001b[0;36m0\u001b[0m\u001b[0;34m]\u001b[0m\u001b[0;34m]\u001b[0m\u001b[0;34m[\u001b[0m\u001b[0;36m0\u001b[0m\u001b[0;34m:\u001b[0m\u001b[0mfloor\u001b[0m\u001b[0;34m(\u001b[0m\u001b[0mtreino_porcentagem\u001b[0m\u001b[0;34m*\u001b[0m\u001b[0mmin_classes\u001b[0m\u001b[0;34m)\u001b[0m\u001b[0;34m]\u001b[0m\u001b[0;34m\u001b[0m\u001b[0m\n\u001b[0m\u001b[1;32m     13\u001b[0m \u001b[0mtesteset\u001b[0m   \u001b[0;34m=\u001b[0m \u001b[0mdataset\u001b[0m\u001b[0;34m.\u001b[0m\u001b[0mloc\u001b[0m\u001b[0;34m[\u001b[0m\u001b[0mdataset\u001b[0m\u001b[0;34m[\u001b[0m\u001b[0mclass_coluna\u001b[0m\u001b[0;34m]\u001b[0m \u001b[0;34m==\u001b[0m \u001b[0mlista_tipos\u001b[0m\u001b[0;34m[\u001b[0m\u001b[0;36m0\u001b[0m\u001b[0;34m]\u001b[0m\u001b[0;34m]\u001b[0m\u001b[0;34m[\u001b[0m\u001b[0mfloor\u001b[0m\u001b[0;34m(\u001b[0m\u001b[0mtreino_porcentagem\u001b[0m\u001b[0;34m*\u001b[0m\u001b[0mmin_classes\u001b[0m\u001b[0;34m)\u001b[0m\u001b[0;34m:\u001b[0m\u001b[0;34m]\u001b[0m\u001b[0;34m\u001b[0m\u001b[0m\n",
      "\u001b[0;31mNameError\u001b[0m: name 'treino_porcentagem' is not defined"
     ]
    }
   ],
   "source": [
    "# Defina a variável de representa a porcentagem de treino em relação ao dataset \n",
    "train_porcentagem = 0.7\n",
    "\n",
    "#Obtendo o número mínimo de instancias por classes\n",
    "# Definindo número mínimo de classes\n",
    "min_classes = len(dataset)\n",
    "for i in lista_tipos:\n",
    "    print( str(i) + ': ' + str(len (dataset.loc[dataset[class_coluna] == i])) )\n",
    "    min_classes = min(min_classes, len (dataset.loc[dataset[class_coluna] == i]))\n",
    "\n",
    "# Separe os dados em um conjunto de treino e de testes, deixando o conjunto de testes com pelo menos 10% dos dados\n",
    "treinotset = dataset.loc[dataset[class_coluna] == lista_tipos[0]][0:floor(treino_porcentagem*min_classes)]\n",
    "testeset   = dataset.loc[dataset[class_coluna] == lista_tipos[0]][floor(treino_porcentagem*min_classes):]"
   ]
  },
  {
   "cell_type": "code",
   "execution_count": null,
   "metadata": {},
   "outputs": [],
   "source": [
    "# Crie a função de classificação"
   ]
  },
  {
   "cell_type": "code",
   "execution_count": null,
   "metadata": {},
   "outputs": [],
   "source": [
    "# Crie a função que avalia a acurácia do conjunto de testes"
   ]
  },
  {
   "cell_type": "code",
   "execution_count": null,
   "metadata": {},
   "outputs": [],
   "source": [
    "# Crie a função que verifica a acurácia para cada 'K' utilizado"
   ]
  },
  {
   "cell_type": "code",
   "execution_count": null,
   "metadata": {},
   "outputs": [],
   "source": [
    "# Execute a função criada para verificar a acurácia para cada 'K' utilizado"
   ]
  }
 ],
 "metadata": {
  "kernelspec": {
   "display_name": "Python 3",
   "language": "python",
   "name": "python3"
  },
  "language_info": {
   "codemirror_mode": {
    "name": "ipython",
    "version": 3
   },
   "file_extension": ".py",
   "mimetype": "text/x-python",
   "name": "python",
   "nbconvert_exporter": "python",
   "pygments_lexer": "ipython3",
   "version": "3.6.4"
  }
 },
 "nbformat": 4,
 "nbformat_minor": 2
}
