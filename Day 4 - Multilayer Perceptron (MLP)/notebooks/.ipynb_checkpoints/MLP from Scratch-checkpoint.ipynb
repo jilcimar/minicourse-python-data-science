{
 "cells": [
  {
   "cell_type": "code",
   "execution_count": 1,
   "metadata": {},
   "outputs": [],
   "source": [
    "# Notebook imports, do not care about them!\n",
    "import jdc"
   ]
  },
  {
   "cell_type": "markdown",
   "metadata": {},
   "source": [
    "# Introdução\n",
    "\n",
    "Redes Neurais de Múltiplas Camadas (RNM) são modelos computacionais inspirados no sistema nervoso humano, compostas por estruturas matemáticas que simulam os neurônios e suas conexões. Os usos mais comuns desses modelos consistem em tarefas de classificação e regressão, \n",
    "o que favorece a aplicação em diversas áreas de pesquisa, sendo uma delas\n",
    "a de Visão Computacional.\n",
    "\n",
    "O objetivo deste *notebook* é apresentar os fundamentos das RNM *feedforward fully connected*, também conhecidas como Multilayer Perceptron (MLP), dos pontos de vista matemático e algorítmico, gerando uma implementação\n",
    "básica de uma MLP em Python. O tratamento matemático foi baseado no excelente livro de Michael Nielsen [1] sobre este tema. As implementações foram adaptadas do também excelente livro de Adrian Rosebrock [2], porém com severas alterações para que houvesse clara correspondência entre a notação matemática e o código. Certamente, a implementação não foi otimizada como poderia (e como o é em bibliotecas especializadas), por propósitos didáticos.\n",
    "\n",
    "Para compreender as RNM, é importante primeiramente conhecer os seus dois principais componentes: os **neurônios** e a **arquitetura em camadas**. Depois, trataremos sobre o aprendizado utilizando o método do *Gradiente Descendente Estocástico* com o algoritmo *Backpropagation*."
   ]
  },
  {
   "cell_type": "markdown",
   "metadata": {},
   "source": [
    "## Neurônios\n",
    "Um neurônio, no contexto das redes neurais, é uma estrutura que aceita como argumento um vetor $\\mathbf{x} = \\langle x_1, x_2, \\ldots, x_n \\rangle \\in \\mathbb{R}^n$\n",
    "de entrada e **responde com um valor real** de saída, comumente chamado de **valor de ativação**. Cada neurônio está relacionado a um valor $b \\in \\mathbb{R}$, chamado **bias**, e a um vetor de pesos $\\mathbf{w} = \\langle w_1, w_2, \\ldots, w_n \\rangle \\in \\mathbb{R}^n$, de forma que cada componente $x_i$ da entrada é associada ao peso $w_i$. Ao receber a entrada,\n",
    "o neurônio responde com o valor $f(\\mathbf{x}\\cdot\\mathbf{w} + b)$, onde $f$ é chamada de \n",
    "**função de ativação** e $\\mathbf{x}\\cdot\\mathbf{w} = \\sum_i x_i \\cdot w_i$, ou seja, \n",
    "o produto interno entre $\\mathbf{x}$ e $\\mathbf{w}$, também chamado de $net$ do neurônio. A imagem abaixo \n",
    "exibe a representação gráfica de um neurônio:\n",
    "\n",
    "![Representação gráfica de um neurônio](images/neuron.png)\n",
    "\n",
    "A contante $b$, o *bias*, existe para permitir um ajuste fino \n",
    "do valor de saída por meio de um deslocamento horizontal da função de ativação. Por essa afirmação,\n",
    "é de se esperar que $b$ seja ajustado na preparação do modelo, o que de fato acontece:\n",
    "o *bias* é aprendido pelas redes neurais, juntamente com os pesos.\n",
    "\n",
    "Uma função comum de ativação é a **sigmoide**, expressa pela equação:\n",
    "$$f(x) = \\frac{1}{1 + e^{-x}}.$$\n",
    "\n",
    "Ela possui a importante propriedade de ser contínua e derivável em $(-\\infty, +\\infty)$,\n",
    "o que favorece o algoritmo de treinamento a ser em breve explicado, apesar de existirem algumas desvantagens em sua utilização. A implementação da nossa MLP utilizará a sigmoide para todas as ativações.\n",
    "\n",
    "Abaixo, estão os gráficos sem e com *bias* da função sigmoide. Perceba o deslocamento horizontal causado\n",
    "pelo *bias*:"
   ]
  },
  {
   "cell_type": "code",
   "execution_count": 2,
   "metadata": {},
   "outputs": [
    {
     "data": {
      "image/png": "[encoded data removed]",
      "text/plain": [
       "<matplotlib.figure.Figure at 0x7fd4a40ff978>"
      ]
     },
     "metadata": {},
     "output_type": "display_data"
    }
   ],
   "source": [
    "import numpy as np\n",
    "import matplotlib.pyplot as plt\n",
    "%matplotlib inline\n",
    "\n",
    "# The sigmoid function\n",
    "def f(X):\n",
    "    return 1/(1+np.exp(-X))\n",
    "\n",
    "# Values for the X axis\n",
    "X = np.arange(-10,10,.1)\n",
    "# Bias value\n",
    "b = -2.5\n",
    "\n",
    "# Plotting without bias\n",
    "plt.subplot(211)\n",
    "plt.plot(X,f(X))\n",
    "plt.title(\"Unbiased\")\n",
    "plt.grid(True)\n",
    "\n",
    "# Plotting with bias\n",
    "plt.subplot(212)\n",
    "plt.plot(X,f(X+b))\n",
    "plt.title(\"Biased\")\n",
    "plt.grid(True)\n",
    "\n",
    "plt.subplots_adjust(top=0.92, bottom=0.08, left=0.10, right=0.95, hspace=0.5,\n",
    "                    wspace=0.35)\n",
    "plt.show()"
   ]
  },
  {
   "cell_type": "markdown",
   "metadata": {},
   "source": [
    "## Arquitetura em camadas\n",
    "\n",
    "Uma RNM é organizada em uma sequência de $C > 2$ camadas de neurônios, denotadas aqui por $L_0, L_1, \\ldots, L_{C-1}$. O tamanho de uma camada $L_i$, denotado aqui por $|L_i|$, é a quantidade de neurônios que ela possui. A camada $L_0$ é dita de entrada, na qual existe um **neurônio de entrada** para cada componente do vetor de entrada da rede. Esses neurônios se diferenciam dos demais porque,\n",
    "ao invés de aceitarem todo o vetor, recebem apenas uma componente e simplesmente a **transmitem** para o interior da rede, sem \n",
    "a aplicação da função de ativação. Já a camada $L_{C-1}$ é dita de saída,\n",
    "e a sua resposta é a resposta da rede. As demais camadas são chamadas de **camadas escondidas**. Abaixo, a representação em gráfica da arquitetura de uma MLP:\n",
    "\n",
    "![Representação gráfica de uma MLP](images/mlparchi.png)\n",
    "\n",
    "O que viabiliza o funcionamento do modelo são as conexões entre essas camadas, e elas podem ocorrer de diversas maneiras na rede. Aqui,  \n",
    "o objeto de estudo são as **redes densas *feedforward***, em que cada neurônio da camada $L_i$ se conecta com\n",
    "todos os neurônios da camada $L_{i+1}$, $i = 0,\\ldots, C-2$, de maneira que o vetor de entrada dos neurônios da camada $L_{i+1}$ é o vetor composto pelas\n",
    "respostas dos neurônios da camada $L_{i}$. Assim, um neurônio na camada $L_{i+1}$ recebe, como entrada, um vetor\n",
    "de dimensão $|L_i|$, $i=0,1, \\ldots, C-2$.\n",
    "\n",
    "Cada conexão entre neurônios pode ser vista como associada ao peso que o neurônio\n",
    "atribui ao valor por ela provido. Essa visão possibilita a utilização de uma\n",
    "notação muito útil para se trabalhar com pesos: denota-se por $w_{kj}^l$ o peso \n",
    "da conexão entre o neurônio $j$ da camada $l-1$ com o neurônio $k$ da camada $l$,\n",
    "$l = 1, \\ldots, C-1$. Ou seja:\n",
    "\n",
    "![Notação para o peso de uma conexão](images/weight.png)\n",
    "\n",
    "Mais ainda, é possível representar todas as conexões entre\n",
    "duas camadas por uma matriz de pesos $\\mathbf{W}^l = (w_{kj}^l)$ de dimensão $|L_{l}| \\times |L_{l-1}|$:\n",
    "\n",
    "\\begin{equation}                                                                                           \n",
    "    \\mathbf{W}^l =                                                                            \n",
    "    \\begin{bmatrix}                                                                           \n",
    "        w^l_{11} & w^l_{12} & \\ldots & w^l_{1|L_{l-1}|}\\\\                                     \n",
    "        w^l_{21} & w^l_{22} & \\ldots & w^l_{2|L_{l-1}|}\\\\                                     \n",
    "        \\vdots & \\vdots & \\ddots & \\vdots\\\\                                                   \n",
    "        w^l_{|L_l|1} & w^l_{|L_l|2} & \\ldots & w^l_{|L_l||L_{l-1}|}\\\\                         \n",
    "    \\end{bmatrix}.                                                                            \n",
    "\\end{equation}\n",
    "\n",
    "Note que, com isso, a linha $k$ da matriz $\\mathbf{W}^l$, denotada por $\\mathbf{w}^l_k$, é o vetor de pesos\n",
    "associados ao neurônio $k$ da camada $l$.\n",
    "\n",
    "Para facilitar a identificação dos *biases* de cada neurônio em uma camada, denota-se por \n",
    "$\\mathbf{b}^l = \\langle b^l_1, b^l_2, \\ldots, b^l_{|L_l|} \\rangle$ os *biases* \n",
    "dos neurônios da camada $L_l$, sendo $b^l_i$ o *bias* do neurônio $i$ na camada $L_l$:\n",
    "\n",
    "$$\\mathbf{b}^l = \\langle b^l_1, b^l_2, \\ldots, b^l_{|L_{l}|} \\rangle.$$\n",
    "\n",
    "Sabendo disso, já é possível iniciar a implementação em Python da RNM!"
   ]
  },
  {
   "cell_type": "markdown",
   "metadata": {},
   "source": [
    "### A classe `MultilayerNeuralNetwork`\n",
    "\n",
    "Como o objetivo é\n",
    "produzir um módulo reutilizável, os recursos de orientação a objetos da linguagem Python\n",
    "serão aplicados. Além disso, o pacote `numpy` será utilizado para a manipulação de matrizes. \n",
    "\n",
    "A programação tem início com a importação do `numpy` (ele foi importado antes, para o gráfico da sigmoide, mas repetimos aqui por questões didáticas) e a declaração da classe `MultilayerNeuralNetwork`, a qual encapsulará todos os dados e métodos necessários ao\n",
    "funcionamento e à utilização da rede, como a matriz de pesos, a arquitetura e as rotinas de treinamento:"
   ]
  },
  {
   "cell_type": "code",
   "execution_count": 3,
   "metadata": {},
   "outputs": [],
   "source": [
    "import numpy as np\n",
    "import random\n",
    "\n",
    "class MultilayerNeuralNetwork:\n",
    "    '''A Multilayer Dense Feedforward Neural Network implementation.'''"
   ]
  },
  {
   "cell_type": "markdown",
   "metadata": {},
   "source": [
    "Essa é apenas uma classe, e nada tem a ver com redes neurais além do nome simplesmente. O próximo passo é criar um **construtor**, método que sempre será chamado quando alguém\n",
    "criar (ou, mais tecnicamente, instanciar) a rede neural. Nele, é importante garantir\n",
    "a criação e inicialização da arquitetura, o que implica na configuração das camadas (quantas e quantos neurônios devem possuir), das matrizes de pesos e dos vetores de *bias*.  Estas serão inicializadas com valores aleatórios, seguindo\n",
    "a distribuição normal, e, em seguida, normalizadas pela raiz quadrada da quantidade de neurônios da camada correspondente. A inicialização dos pesos é um tópico importante, para o qual existem diversas propostas, mas que será abstraído neste momento por economia de tempo.\n",
    "Além disso, um parâmetro `alpha` será acrescentado, \n",
    "cuja existência será justificada mais adiante. Portanto, o construtor receberá do\n",
    "usuário a **arquitetura da rede**, no formato $[|L_0|, |L_1|, \\ldots, |L_{k-1}|$, e o tal `alpha`:"
   ]
  },
  {
   "cell_type": "code",
   "execution_count": 4,
   "metadata": {},
   "outputs": [],
   "source": [
    "    %%add_to MultilayerNeuralNetwork\n",
    "    def __init__(self, arch = [1,2,1], alpha = 0.1):\n",
    "        '''Initialize the network.'''\n",
    "        \n",
    "        # A dictionary to store the weight matrices\n",
    "        self.W = {}\n",
    "        # A dictionary to store the biases vectors\n",
    "        self.B = {}\n",
    "        # The learning rate (to be explained later)\n",
    "        self.alpha = alpha\n",
    "        # The arch answers the questions: how many layers and how many neurons in each layer.\n",
    "        self.arch = arch\n",
    "        \n",
    "        # Initialize the weight matrix and biases with normalized random values\n",
    "        for i in np.arange(1,len(self.arch)):\n",
    "            # Weights\n",
    "            w = np.random.randn(self.arch[i], self.arch[i-1])\n",
    "            self.W[i] = w/np.sqrt(self.arch[i])\n",
    "            # Biases\n",
    "            b = np.random.randn(self.arch[i],1)\n",
    "            self.B[i] = b/np.sqrt(self.arch[i])"
   ]
  },
  {
   "cell_type": "markdown",
   "metadata": {},
   "source": [
    "Como será utilizada a função sigmoide para a ativação dos neurônios, é importante\n",
    "que ela e sua derivada estejam implementadas na classe:  "
   ]
  },
  {
   "cell_type": "code",
   "execution_count": 5,
   "metadata": {},
   "outputs": [],
   "source": [
    "    %%add_to MultilayerNeuralNetwork\n",
    "    def sigmoid(self, x):\n",
    "        '''Sigmoid function.'''\n",
    "        return 1.0/(1 + np.exp(-x))\n",
    "    \n",
    "    def sigmoid_deriv(self, x):\n",
    "        '''Derivative of the sigmoid function, considering that x is the result\n",
    "        of applying the sigmoid function to the net.\n",
    "        '''\n",
    "        return x * (1 - x)"
   ]
  },
  {
   "cell_type": "markdown",
   "metadata": {},
   "source": [
    "Com isso, é possível instanciar uma rede, mesmo que não se possa fazer nada com ela ainda, apenas para checar a sua estrutura:"
   ]
  },
  {
   "cell_type": "code",
   "execution_count": 6,
   "metadata": {
    "scrolled": true
   },
   "outputs": [
    {
     "name": "stdout",
     "output_type": "stream",
     "text": [
      "{1: array([[ 0.16182205, -0.03129429],\n",
      "       [ 0.38264993,  0.25478651],\n",
      "       [ 0.12592978, -0.77047449]]), 2: array([[-0.6471949 , -0.38644712,  0.8099297 ]])}\n",
      "{1: array([[-0.9829649 ],\n",
      "       [ 0.16776619],\n",
      "       [-0.16992502]]), 2: array([[-0.61045786]])}\n"
     ]
    }
   ],
   "source": [
    "# Creating an architecture with 2 neurons in the input layer, 3 in the unique hidden layer\n",
    "# and 1 in the output layer\n",
    "neuralnet = MultilayerNeuralNetwork(arch = [2,3,1], alpha = 0.5)\n",
    "print(neuralnet.W)\n",
    "print(neuralnet.B)"
   ]
  },
  {
   "cell_type": "markdown",
   "metadata": {},
   "source": [
    "### Respostas das camadas\n",
    "\n",
    "Note que cada camada produz um vetor de resposta composto pelas respostas individuais\n",
    "de cada um de seus neurônios. Denote por $\\mathbf{a^{l-1}} = \\langle a^{l-1}_1, a^{l-1}_2, \\ldots, a^{l-1}_{|L_{l-1}|} \\rangle$ esse vetor para a camada $L_{l-1}$. Como visto, ele deverá ser a entrada para a camada seguinte, $L_l$, mas os seus valores serão combinados de forma particular\n",
    "pela matriz de pesos $\\mathbf{W}^{l}$, como se pode reparar na imagem abaixo, quando analisada com a representação de um neurônio, exibida no início do *notebook*:\n",
    "\n",
    "![Saída de um neurônio em função da saída da camada anterior.](images/outs.png)\n",
    "\n",
    "Assim, a expressão\n",
    "\n",
    "$$\\mathbf{z}^l = \\mathbf{W}^{l}\\cdot\\mathbf{a}^{l-1} + \\mathbf{b}^l$$\n",
    "\n",
    "produz um vetor cujos componentes são os valores $net$ de cada neurônio da camada\n",
    "$L_{l}$. Sabendo disso, qual seria a expressão para o vetor de saída da camada $L_{l}$, ou seja, para $\\mathbf{a}^{l}$?\n",
    "Basta aplicar a função de ativação a cada componente do vetor obtido! Considerando-se a aplicação da função ponto a ponto, ou seja, $f(\\langle x_1, x_2, \\ldots, x_n \\rangle) = \\langle f(x_1), f(x_2), \\ldots, f(x_n) \\rangle$, tem-se que:\n",
    "\n",
    "$$\\mathbf{a}^{l} = f(\\mathbf{W}^{l}\\cdot\\mathbf{a}^{l-1} + \\mathbf{b}^l) = f(\\mathbf{z}^l).$$\n",
    "\n",
    "O conhecimento adquirido até este ponto é suficiente para se entender a arquitetura de uma rede neural e como computar as saídas das suas camadas de neurônios a partir \n",
    "de um vetor de entrada. Já podemos implementar uma função muito importante da nossa rede neural: dado um conjunto de vetores de entrada, qual é o vetor de resposta da rede para cada vetor, ou seja, qual o vetor na camada de saída? Essa função é comumente chamada de `predict`, pois é utilizada para gerar a previsão (resposta) da rede a partir de uma entrada. Note como é simples e advém diretamente da definição:"
   ]
  },
  {
   "cell_type": "code",
   "execution_count": 7,
   "metadata": {},
   "outputs": [],
   "source": [
    "    %%add_to MultilayerNeuralNetwork\n",
    "    def predict(self, X):\n",
    "        ''' Given a matrix X of input row vectors, compute the output of the network. '''\n",
    "        # Set the result of the input layer to be the column vectors from X, transposed\n",
    "        a = np.atleast_2d(X).T\n",
    "        # Compute the output, passing through each layer\n",
    "        for layer in np.arange(1, len(self.arch)):\n",
    "            a = self.sigmoid(np.dot(self.W[layer], a) + self.B[layer])\n",
    "        return a"
   ]
  },
  {
   "cell_type": "markdown",
   "metadata": {},
   "source": [
    "Ocorre que apenas saber como obter a saída da rede não resolve problema algum: as matrizes de pesos aleatórios \n",
    "tornam o modelo inútil. Ele necessita se ajustar (lê-se \"aprender\")\n",
    "para solucionar os problemas com os quais é confrontado, e é disso que \n",
    "trataremos a partir de agora!"
   ]
  },
  {
   "cell_type": "markdown",
   "metadata": {},
   "source": [
    "# Aprendizado em uma RNM\n",
    "\n",
    "O modelo de aprendizagem de redes neurais é geralmente o **supervisionado**, pois faz\n",
    "uso de exemplos representantes da verdade (*ground truth*) para fazer\n",
    "com que a rede gere as respostas desejadas após uma **etapa de treinamento**. É como se um professor\n",
    "apresentasse a entrada, a rede respondesse e ele informasse qual foi o \n",
    "erro cometido. A rede, com base nisso, modifica sua estrutura (suas matrizes\n",
    " de pesos) para que o erro, da próxima vez que o professor mostrar\n",
    " o exemplo, seja garantidamente menor. Esse processo termina quando algum critério de parada é atingido. Os mais comuns são o erro máximo e o número de ciclos ou *epochs* (percorrimentos do conjunto inteiro de treino).\n",
    " \n",
    " Um problema a ser resolvido com aprendizado de máquinas geralmente provê um conjunto com $N$ exemplos\n",
    " \n",
    " $$\\mathcal{D} = \\{\\langle \\mathbf{x_1}, \\mathbf{y_1} \\rangle\\, \\langle \\mathbf{x_2}, \\mathbf{y_2} \\rangle\\, \\ldots, \\langle \\mathbf{x_N}, \\mathbf{y_N} \\rangle\\}$$\n",
    " \n",
    " sendo $\\mathbf{x_i} \\in \\mathbb{R}^d$ os vetores de entrada da rede e $\\mathbf{y_i} \\in \\mathbb{R}^e$ a\n",
    " resposta esperada para a rede, também chamada de ***target*** ou **classe**. \n",
    " \n",
    " É prática comum \n",
    " particionar esse conjunto em dois outros: um para o treinamento da rede, denotado por $\\mathcal{T}$,\n",
    " e outro para o teste do modelo treinado, denotado por $\\mathcal{T^*}$. Tamanhos comuns para o conjunto de treino são $65\\%$, $70\\%$ ou $75\\%$ de $|\\mathcal{D}|$. A biblioteca `sklearn`, em Python,\n",
    " provê a função `train_test_split`, que realiza esse particionamento.\n",
    " \n",
    " O erro cometido pela rede, ao responder para dado exemplo $\\langle \\mathbf{x}, \\mathbf{y} \\rangle \\in \\mathcal{D}$, é modelado matematicamente por uma **função de custo**\n",
    " $C_x:\\mathbb{R}^{\\omega+\\beta} \\to \\mathbb{R}$, onde $\\omega$ é a quantidade de pesos (como calcular $\\omega$ a partir da arquitetura?) e $\\beta$, a de *biases*. As funções que podem desempenhar esse papel devem cumprir alguns requisitos\n",
    " básicos e dependem dos valores dos pesos e dos *biases*. Uma das mais comuns é a do **erro quadrático**, de equação:\n",
    " \n",
    " $$C_x = \\frac 1 2 ||\\mathbf{y}- \\mathbf{a}^{k-1}(\\mathbf{x})||^2 = \\frac 1 2 \\sum_i (y_i - a^{k-1}_i(\\mathbf{x}))^2,$$\n",
    "  onde $a^{k-1}(\\mathbf{x})$ é a saída da última camada da rede para o exemplo $\\langle \\mathbf{x}, \\mathbf{y} \\rangle$ (que nossa rede já sabe computar). Note que,\n",
    " quanto maior a diferença entre a verdade e a saída da rede, maior o valor dessa\n",
    " função, o que mostra sua adequação para representar o erro.\n",
    " \n",
    " A fim de representar o erro com respeito a todos os exemplos, define-se também a função\n",
    " de custo $\\bar{C}:\\mathbb{R}^{\\omega+\\beta} \\to \\mathbb{R}$, dada pela média dos erros para cada exemplo, ou seja:\n",
    " \n",
    " $$\n",
    "     \\bar{C} = \\frac 1 n \\sum_{\\langle \\mathbf{x}, \\mathbf{y} \\rangle \\in \\mathcal{T}} C_x = \\frac{1}{2n} \\sum_{\\langle \\mathbf{x}, \\mathbf{y} \\rangle \\in \\mathcal{T}} ||\\mathbf{y}- \\mathbf{a}^{k-1}(\\mathbf{x})||^2.\n",
    " $$ \n",
    " \n",
    " Precisaremos, em nossa implementação, do cálculo da função de custo quadrática. Façamos, pois:"
   ]
  },
  {
   "cell_type": "code",
   "execution_count": 8,
   "metadata": {},
   "outputs": [],
   "source": [
    "    %%add_to MultilayerNeuralNetwork\n",
    "    def quadratic_loss(self, X, Y):\n",
    "        ''' Compute the total quadratic loss, given a matrix with row vectors. '''\n",
    "        # Transform all target line vectors in column vectors\n",
    "        Y = np.atleast_2d(Y).T\n",
    "        # Generate predictions\n",
    "        predictions = self.predict(X)\n",
    "        # Compute loss\n",
    "        n = X.shape[0]\n",
    "        loss = (1/n) * 0.5 * np.sum((predictions - Y) ** 2)\n",
    "        return loss    "
   ]
  },
  {
   "cell_type": "markdown",
   "metadata": {},
   "source": [
    " O objetivo do treinamento é fazer com que o valor de $C_x$ (e $\\bar{C}$, consequentemente), para cada exemplo $\\langle \\mathbf{x}, \\mathbf{y} \\rangle$,\n",
    " seja menor a cada ciclo de treino. Como $C_x$ é função dos pesos e dos *biases*, nada melhor que buscar ajustá-los a fim de alcançar esse objetivo. Esse ajuste ocorre por meio de algum\n",
    " **método de otimização**, cujo objetivo é encontrar um conjunto de valores para pesos e *biases* tal que o valor de $\\bar{C}$ seja tão menor quanto se queira. Um método \n",
    " muito utilizado para tanto chama-se **gradiente descendente**, do qual a próxima seção tratará.\n",
    " "
   ]
  },
  {
   "cell_type": "markdown",
   "metadata": {},
   "source": [
    " ## Gradiente descendente\n",
    " \n",
    " Fujamos do escopo das redes neurais, e tratemos do problema geral de minimizar uma função\n",
    " de múltiplas variáveis $C:\\mathbb{R}^n \\to \\mathbb{R}$. Queremos encontrar o vetor $\\mathbf{v} = \\langle v_1, v_2, \\ldots, v_n \\rangle$ tal que $C(\\mathbf{v}) = C(v_1, v_2, \\ldots, v_n)$ seja um mínimo global de $C$.\n",
    " \n",
    " Para conseguir a intuição sobre o método, vale reduzir a dimensão de entrada de $C$ para\n",
    " duas variáveis, $v_1$ e $v_2$, e imaginar que seu gráfico assuma a forma de um vale. Por exemplo:\n",
    " "
   ]
  },
  {
   "cell_type": "code",
   "execution_count": 9,
   "metadata": {},
   "outputs": [
    {
     "data": {
      "text/plain": [
       "<matplotlib.text.Text at 0x7fd47d1c6860>"
      ]
     },
     "execution_count": 9,
     "metadata": {},
     "output_type": "execute_result"
    },
    {
     "data": {
      "image/png": "[encoded data removed]",
      "text/plain": [
       "<matplotlib.figure.Figure at 0x7fd4880cca90>"
      ]
     },
     "metadata": {},
     "output_type": "display_data"
    }
   ],
   "source": [
    "from mpl_toolkits import mplot3d\n",
    "\n",
    "def quad(x,y):\n",
    "    return x**2 + y**2\n",
    "\n",
    "x = np.linspace(-10,10,30)\n",
    "y = np.linspace(-10,10,30)\n",
    "\n",
    "X,Y = np.meshgrid(x,y)\n",
    "\n",
    "Z = quad(X,Y)\n",
    "\n",
    "fig = plt.figure()\n",
    "ax = plt.axes(projection='3d')\n",
    "ax.plot_surface(X,Y,Z,rstride=1, cstride=1, cmap='viridis', edgecolor='none')\n",
    "ax.set_title('Quadratic plot')"
   ]
  },
  {
   "cell_type": "markdown",
   "metadata": {},
   "source": [
    "A função acima é bem simples, devemos concordar, e, apenas observando seu gráfico, é possível encontrar o mínimo. Também, utilizando técnicas primárias de cálculo, é possível encontrar o mínimo global sem muito esforço nesse caso. Porém, quando lidamos com aprendizado, geralmente estamos interessados em minimizar funções de dezenas, centenas, milhares de variáveis! É por isso que as técnicas tradicionais de cálculo se tornam inviáveis, e outros métodos entram em cena.\n",
    "\n",
    "O gradiente descendente, sendo um deles, não busca encontrar um mínimo global, mas sim **algum mínimo para a função**. Isso pode ser um problema em alguns casos, mas não se mostra um empecilho grave para o seu uso em muitas aplicações de redes neurais. Imagine uma bola colocada em algum ponto arbitrário do vale mostrado no gráfico acima. Nossa experiência diz que ela começará a rolar até o ponto mais baixo do vale, e esse fato nos dá uma heurística para encontrar um mínimo da função: encontremos uma maneira de mover a bola nas direções\n",
    "$v_1$ e $v_2$ de forma que ela sempre esteja descendo o vale! \n",
    "\n",
    "Já que queremos mover a bola, vamos representar o deslocamento por um vetor $\\Delta v = \\langle \\Delta v_1, \\Delta v_2 \\rangle$. Assumindo a bola inicialmente na posição $v = \\langle v_1, v_2 \\rangle$, qual será a mudança no valor de $C$ causada por esse deslocamento? Ou seja, como podemos estimar o valor de $\\Delta C = C(v+\\Delta v)-C(v)$?\n",
    "Da fórmula de Taylor para o caso Multivariável, temos que\n",
    "\n",
    "$$\\Delta C \\approx \\nabla C(v) \\cdot \\Delta v = \\left \\langle \\frac{\\partial C}{\\partial v_1}, \\frac{\\partial C}{\\partial v_2} \\right \\rangle \\cdot \\langle \\Delta v_1, \\Delta v_2 \\rangle ^T = \\frac{\\partial C}{\\partial v_1}\\Delta v_1 + \\frac{\\partial C}{\\partial v_2} \\Delta v_2.$$\n",
    "\n",
    "Queremos reduzir o valor de $C$, correto? Para isso, devemos escolher um valor de $\\Delta v$ apropriado, tal que $\\Delta C < 0$. Pela equação acima, isso se torna muito fácil! Vamos tomar $\\Delta v$ como\n",
    "\n",
    "$$\\Delta v = -\\alpha \\nabla C^T,$$\n",
    "onde $\\alpha \\in \\mathbb{R}_+$. Ainda não convencido de que o $\\Delta C$ causado por essa variação $\\Delta v$ seja negativo? Vamos substituir:\n",
    "\n",
    "$$\\Delta C \\approx \\nabla C \\cdot \\Delta v = \\nabla C \\cdot (-\\alpha \\nabla C^T) = -\\alpha (\\nabla C \\cdot \\nabla C^T ) = -\\alpha ||\\nabla C||^2 \\leq 0,$$\n",
    "já que $||\\nabla C||^2 \\geq 0$ e $\\alpha > 0$. Isso nos garante que, sempre que escolhermos o $\\Delta v$ daquela forma, o valor do $C$ (o valor do erro!) sempre vai diminuir (claro, dentro dos limites da aproximação).\n",
    "\n",
    "Observe que utilizamos, aqui, uma função de duas variáveis, como forma de simplificação. Porém, note que, nas equações vetoriais acima, esse fato não se mostrou nada relevante! De fato, não importa a dimensão: a regra do gradiente descendente funcionará, e é por isso que podemos utilizá-la em nossa rede neural! Assim, para reduzirmos o valor da função de custo $C$, alteraremos os pesos $\\mathbf w$ e os biases $\\mathbf b$ (as variáveis de $C$) pela regra abaixo, considerando a aplicação em cada variável:\n",
    "\n",
    "$$w_k \\gets w_k + (-\\alpha \\frac{\\partial C}{\\partial w_k})$$\n",
    "$$b_l \\gets b_l + (-\\alpha \\frac{\\partial C}{\\partial b_l})$$\n",
    "\n",
    "No contexto das redes, o parâmetro $\\alpha$, chamado **taxa de aprendizado** (*learning rate*), permite diminuir o risco de provocarmos um $\\Delta C$ muito elevado, o que poderia representar uma fuga de um ponto mínimo, ou um muito pequeno, o que atrasaria o processo de otimização."
   ]
  },
  {
   "cell_type": "markdown",
   "metadata": {},
   "source": [
    "### O gradiente descendente estocástico\n",
    "\n",
    "Suponha que nosso conjunto de treino $\\mathcal{T}$ possua muitas instâncias. Como \n",
    "$C = \\sum_{x \\in \\mathcal{T}} C_x,$\n",
    "computar $\\nabla C$ seria muito demorado, pois envolveria computar todos os valores\n",
    "$\\nabla C_x$ e depois fazer $\\nabla C = \\frac{1}{n} \\sum_{x \\in \\mathcal{T}} \\nabla C_x$.\n",
    "Isso poderia atrasar muito o aprendizado, pois haveria uma atualização dos pesos e *biases* por epoch! \n",
    "\n",
    "O que comumente se faz é adaptar o método do gradiente descendente para sua versão\n",
    "estocástica. Isso significa particionar aleatoriamente o conjunto $\\mathcal T$ em uma família de conjuntos\n",
    "$\\{\\mathcal{T_i}\\}_i$ de mesma cardinalidade (tamanho) $m$. Seja $\\mathcal{T_j} = \\{x^j_1, x^j_2, \\ldots, x^j_m\\}$ algum desses conjuntos e suponha $m$ suficientemente grande.\n",
    "Consideramos que a média entre os $\\nabla C_{x^j_k}$ se aproxime da média dos $\\nabla C_{x}$, ou seja:\n",
    "\n",
    "$$\\frac{\\sum_{k = 1}^m \\nabla C_{x^j_k}}{m} \\approx \\frac{\\sum_{x \\in \\mathcal{T}} \\nabla C_x}{n} = \\nabla C.$$\n",
    "\n",
    "Fantástico! Agora não precisamos esperar a análise do conjunto inteiro e potencialmente gigantesco $\\mathcal{T}$ para que a rede aprenda! Podemos pegar porções menores (chamadas *mini-batches*), estimar $\\nabla C$ utilizando a aproximação acima, e atualizar os pesos e *biases*! Na prática, tomamos um conjunto com $m$  pontos arbitrários, $\\mathcal{T_j} = \\{x^j_1, x^j_2, \\ldots, x^j_m\\}$, e executamos as atualizações:\n",
    "\n",
    "$$w_k \\gets w_k + (-\\frac{\\alpha}{m} \\sum_{p = 1}^m \\frac{\\partial C_{x^j_p}}{\\partial w_k})$$\n",
    "$$b_l \\gets b_l + (-\\frac{\\alpha}{m} \\sum_{p = 1}^m \\frac{\\partial C_{x^j_p}}{\\partial b_l})$$\n",
    "\n",
    "Depois, tomamos outro conjunto de tamanho $m$,\n",
    "e executamos as atualizações. Isso se repete até que o conjunto $\\mathcal{T}$\n",
    "se exaura, marcando o fim de uma *epoch* do treino. As próximas *epochs* repetirão esse processo.\n",
    "\n",
    "Que tal implementarmos nosso *stochastic gradient descent* em nossa rede neural?"
   ]
  },
  {
   "cell_type": "code",
   "execution_count": 10,
   "metadata": {},
   "outputs": [],
   "source": [
    "    %%add_to MultilayerNeuralNetwork\n",
    "    def stochastic_gradient_descent(self, D, batch_size):\n",
    "        ''' Update the weights and bias through stochastic gradient \n",
    "        descent optimization. '''\n",
    "        # Get the amount of data points\n",
    "        train_size = len(D)\n",
    "        # Shuffle the data\n",
    "        random.shuffle(D)\n",
    "        # Obtain mini-batches\n",
    "        mini_batches = [D[k : k + batch_size] \n",
    "            for k in range(0, train_size, batch_size)]\n",
    "        # Update weights and biases\n",
    "        for mini_batch in mini_batches:\n",
    "            self.optimize_mini_batch(mini_batch)\n",
    "    \n",
    "    def optimize_mini_batch(self, mini_batch):\n",
    "        ''' Given a minibatch {<x1,y1>,<x2,y2>,...,<xm,ym>}, optimize the cost function. '''\n",
    "        # Get the mini-batch size\n",
    "        m = len(mini_batch)\n",
    "        # Dictionaries to store the gradients of C\n",
    "        GCw = {}\n",
    "        GCb = {}\n",
    "        # Initialize gradient matrices with zeroes\n",
    "        for i in np.arange(1,len(self.arch)):\n",
    "            GCw[i] = np.zeros(self.W[i].shape)\n",
    "            GCb[i] = np.zeros(self.B[i].shape)\n",
    "        # Use the SGD update rules for teaching the neural network for each batch point\n",
    "        for x, y in mini_batch:\n",
    "            # Compute gradients: see next section to understand how!\n",
    "            Gw, Gb = self.compute_gradient(x, y)\n",
    "            for i in np.arange(1,len(self.arch)): \n",
    "                GCw[i] += Gw[i]\n",
    "                GCb[i] += Gb[i]\n",
    "        # Apply rules for updating weights and biases\n",
    "        for l in np.arange(1,len(self.arch)):\n",
    "            self.W[l] = self.W[l] - (self.alpha/m)*(GCw[l])\n",
    "            self.B[l] = self.B[l] - (self.alpha/m)*(GCb[l])"
   ]
  },
  {
   "cell_type": "markdown",
   "metadata": {},
   "source": [
    "Esta seção nos deu um método muito poderoso para nossa rede neural aprender\n",
    "com a experiência! Existe, porém, um ponto ainda obscuro... **Como calcular o gradiente?** Ou melhor, como calcular de forma eficiente? O algoritmo da próxima seção tratará exatamente disso! Vamos aproveitar a estrutura em camadas da nossa rede para computar rapidamente gradientes de forma brilhante!"
   ]
  },
  {
   "cell_type": "markdown",
   "metadata": {},
   "source": [
    " \n",
    " ## O algoritmo Backpropagation\n",
    " \n",
    " Por questões de simplicidade, consideraremos um exemplo fixo $\\langle \\mathbf{x}, \\mathbf{y} \\rangle$, e chamaremos $C_x$ de $C$.\n",
    " \n",
    "O ajuste dos pesos, pelo método do gradiente descendente, como visto, demanda o conhecimento sobre como variações nas matrizes\n",
    " de pesos - de camadas diferentes da última, inclusive - e dos *biases* afetam o resultado da função de custo. Em outras palavras, queremos conhecer as derivadas\n",
    " \n",
    " $$\\frac{\\partial C}{\\partial w_{ij}^l} \\qquad \\frac{\\partial C}{\\partial b_{i}^l},$$\n",
    " para todos os $w_{ij}^l$ e $b_{i}^l$, o que nos permitirá utilizar as regras de atualização do gradiente descendente e fazer a rede neural aprender.\n",
    " \n",
    " Computá-los de forma explícita seria dispendioso. Existe, porém, um caminho implícito. Imagine que o neurônio $j$ da camada $L_l$\n",
    " deva produzir o valor $net$ denotado por $z_j^l$. Porém, suponha que esse valor\n",
    " seja alterado por uma quantidade pequena $\\Delta z_j^l$, de tal forma que a resposta dele\n",
    " seja $f(z_j^l + \\Delta z_j^l)$. Como a função de custo é afetada por essa mudança?\n",
    " Da fórmula de Taylor para o Cálculo Multivariável, chega-se que \n",
    " \n",
    " $$\\Delta C = \\frac{\\partial C}{\\partial z_{j}^l} \\Delta z_{j}^l.$$\n",
    " \n",
    " Note que, se $\\frac{\\partial C}{\\partial z_{j}^l}$ \n",
    " possuir um valor alto, é necessário um $\\Delta z_{j}^l$ de sinal oposto\n",
    " para reduzir o custo. Se possuir um valor próximo de zero, \n",
    " como $\\Delta z_j^l$ é pequeno, não se pode fazer muito para reduzir o custo, e o neurônio é dito estar\n",
    " em estado próximo do ótimo. Assim, faz sentido definir o erro nesse neurônio, \n",
    " denotado por $\\delta_j^l$, como\n",
    " \n",
    " \\begin{equation}\n",
    " \\delta_j^l = \\frac{\\partial C}{\\partial z_{j}^l}.\n",
    " \\end{equation}\n",
    " \n",
    " Além disso, define-se o vetor de erros dos neurônios da camada $L_l$ por\n",
    " $\\delta^l = \\langle \\delta^l_1, \\delta^l_2, \\ldots, \\delta^l_{|L_l|} \\rangle$. O algoritmo Backpropagation está fundamentado em quatro equações, das quais se pode obter\n",
    " o gradiente da função de custo, de interesse para as regras de atualização do gradiente descendente. Pode-se dizer que este é o grande viabilizador das redes neurais modernas, incluindo\n",
    "as utilizadas para *Deep Learning*. Para simplificar a notação, considere a camada $L_{k-1}$ (de saída) denotada pelo índice $L$.\n",
    "\n",
    "Resta-nos compreender cada equação."
   ]
  },
  {
   "cell_type": "markdown",
   "metadata": {},
   "source": [
    "### Uma equação para o $\\delta^L$\n",
    "\n",
    "Esta equação fornece meios para se calcular o erro na camada de saída. A função de custo pode ser vista da forma \n",
    "\n",
    "$$C=C(X_1, X_2, \\ldots, X_{|L|}),$$\n",
    "\n",
    "tal que $X_1 = a_1^L(z^L_1, z^L_2 \\ldots, z^L_{|L|}), X_2 = a_2^L(z^L_1, z^L_2 \\ldots, z^L_{|L|}), \\ldots, X_{|L|} = a_{|L|}^L(z^L_1, z^L_2 \\ldots, z^L_{|L|})$. Pela definição anterior, sabemos que:\n",
    "\n",
    "$$\\delta_j^L = \\frac{\\partial C}{\\partial z_{j}^L}.$$\n",
    "\n",
    "Utilizando a **regra da cadeia** do Cálculo Multivariável, tem-se que\n",
    "\n",
    "$$\\frac{\\partial C}{\\partial z_{j}^L} = \\sum_k \\frac{\\partial C}{\\partial a^L_j}\\frac{\\partial a^L_k}{\\partial z^L_j}.$$\n",
    "\n",
    "Como apenas $a^L_j$ depende de $z^L_j$, todas as $\\frac{\\partial a^L_k}{\\partial z^L_j}$, com $k \\neq j$, serão anuladas, restando que:\n",
    "\n",
    "$$\\frac{\\partial C}{\\partial z_{j}^L} =\\frac{\\partial C}{\\partial a^L_j}\\frac{\\partial a^L_j}{\\partial z^L_j}.$$\n",
    "\n",
    "Como $a^L_j = f(z^L_j)$, \n",
    "\n",
    "$$\\frac{\\partial a^L_j}{\\partial z^L_j} = f'(z^L_j).$$\n",
    "\n",
    "Finalmente, chega-se à equação\n",
    "\n",
    "$$\\delta^L_j = \\frac{\\partial C}{\\partial a^L_j}f'(z_j^L).$$\n",
    "\n",
    "Na forma vetorial, temos:\n",
    "\n",
    "$$\\delta^L = \\nabla C_a \\odot f'(\\mathbf{z}^L),$$\n",
    "onde $\\odot$ é o **produto de Hadamard**, o qual tem o seguinte efeito, para dois vetores:\n",
    "\n",
    "$$\\langle a_1, a_2, \\ldots, a_n \\rangle^T \\odot \\langle b_1, b_2, \\ldots, b_n \\rangle^T = \\langle a_1b_1, a_2b_2,\\ldots,a_nb_n \\rangle^T.$$"
   ]
  },
  {
   "cell_type": "markdown",
   "metadata": {},
   "source": [
    "### Uma equação para o $\\delta^l$ em função de $\\delta^{l+1}$\n",
    "\n",
    "Na equação passada, conseguimos uma forma de calcular os erros da última camada, entretanto, queremos também um modo\n",
    "de se calcularem os erros nas demais camadas. A estratégia é tentar escrever $\\delta^{l}_j = \\frac{\\partial C}{\\partial z^l_j}$ em termos de $\\delta^{l+1}_{j} = \\frac{\\partial C}{\\partial z^{l+1}_j}$. Como? Primeiro, é válido notar que $z_j^{l+1}$, por definição,\n",
    "depende $z_j^l$:\n",
    "\n",
    "$$z_j^{l+1} = \\mathbf{W}^{l+1}_ja^l = \\mathbf{W}^{l+1}_jf(z^l) = \\sum_i w^{l+1}_{ij}f(z^l_i).$$\n",
    "\n",
    "Além disso, $C$ depende de $z_j^{l+1}$, devido à definição recursiva de $a^n$. Com isso, basta aplicar a regra da cadeia novamente, e temos que:\n",
    "\n",
    "$$\\delta_j^l = \\sum_k \\frac{\\partial C}{\\partial z^{l+1}_k}\\frac{\\partial z^{l+1}_k}{\\partial z^l_j} = \\sum_k \\frac{\\partial z^{l+1}_k}{\\partial z^l_k}\\delta^{l+1}_k.$$\n",
    "\n",
    "Diferenciando a expressão para $z_j^{l+1}$, temos que:\n",
    "$$\\frac{\\partial z_k^{l+1}}{\\partial z_j^l} = w^{l+1}_{jk}f'(z^l_j).$$\n",
    "\n",
    "Assim, substituindo, chegamos a:\n",
    "$$\\delta_j^l = \\sum_k w^{l+1}_{jk}\\delta^{l+1}_kf'(z^l_j).$$\n",
    "\n",
    "Podemos obter a versão vetorial da seguinte forma:\n",
    "\n",
    "\\begin{align}\n",
    "\\delta_j^l = & (\\sum_k w^{l+1}_{kj}\\delta^{l+1}_k)f'(z^l_j) \\\\\n",
    "           = & ((w^{l+1}_{j})^T \\cdot \\delta^{l+1})f'(z^l_j)\n",
    "\\end{align}\n",
    "\n",
    "Essa é a forma componente a componente; para obtermos o vetor $\\delta_j$, basta\n",
    "utilizarmos o produto de Hadamard:\n",
    "\n",
    "$$\\delta^l = ((w^{l+1})^T \\cdot \\delta^{l+1}) \\odot f'(z^l)$$"
   ]
  },
  {
   "cell_type": "markdown",
   "metadata": {},
   "source": [
    "### Uma equação para $\\frac{\\partial C}{\\partial b^l_{j}}$\n",
    "\n",
    "Chegou a hora de obtermos as nossas derivadas de interesse! Começaremos por aquelas\n",
    "com respeito aos *biases*. Da regra da cadeira para o cálculo de muitas variáveis, temos que:\n",
    "\n",
    "$$\\frac{\\partial C}{\\partial b^l_{j}}=\\sum_m \\frac{\\partial C}{\\partial z_m^l} \\frac{\\partial z_m^l}{\\partial b_{j}^l}$$\n",
    "\n",
    "Note agora que $\\frac{\\partial z_m^l}{\\partial b_{j}^l}$, quando $m \\neq j$,\n",
    "é zero, pois $z_m^l$ não depende de $b_{j}^l$ nessas condições. Assim, a equação acima\n",
    "se reduz a:\n",
    "\n",
    "$$\\frac{\\partial C}{\\partial b^l_{j}}=\\frac{\\partial C}{\\partial z_j^l} \\frac{\\partial z_j^l}{\\partial b_{j}^l}$$\n",
    "\n",
    "Vamos lembrar a forma de $z_j^l$:\n",
    "\n",
    "$$z_j^l = \\sum_k a^{l-1}_k w^l_{kj} + b^l_j$$\n",
    "\n",
    "Daí, derivando $z_j^l$ com respeito a $b^l_j$, temos:\n",
    "\n",
    "$$\\frac{\\partial z_j^l}{\\partial b_{j}^l} = 1.$$\n",
    "\n",
    "Substituindo na equação mais acima, chegamos que, simplesmente:\n",
    "\n",
    "$$\\frac{\\partial C}{\\partial b^l_{j}}=\\frac{\\partial C}{\\partial z_j^l} = \\delta^l_j.$$"
   ]
  },
  {
   "cell_type": "markdown",
   "metadata": {},
   "source": [
    "### Uma equação para $\\frac{\\partial C}{\\partial w^l_{jk}}$\n",
    "\n",
    "Sabemos que $C$ está em função de $z^l$ e que $z^l$ está em função dos pesos,\n",
    "o que inclui $w_{jk}^l$. Por essa razão, podemos novamente aplicar a regra\n",
    "da cadeia, da seguinte forma:\n",
    "$$\\frac{\\partial C}{\\partial w^l_{jk}}=\\sum_m \\frac{\\partial C}{\\partial z_m^l} \\frac{\\partial z_m^l}{\\partial w_{jk}^l}$$\n",
    "\n",
    "Note que $w^l_{jk}$ apenas influencia no cálculo de $z^l_j$, logo\n",
    "$$\\frac{\\partial C}{\\partial w^l_{jk}}=\\frac{\\partial C}{\\partial z_j^l} \\frac{\\partial z_j^l}{\\partial w_{jk}^l}=\\delta^l_j\\frac{\\partial z_j^l}{\\partial w_{jk}^l}.$$\n",
    "\n",
    "Lembremo-nos de que:\n",
    "$$z_j^{l} = \\mathbf{W^{l}}_j \\cdot \\mathbf{a}^{l-1} = \\sum_i w^{l}_{ji}a^{l-1}_i,$$\n",
    "onde $\\mathbf{W^{l}}_j$ é a $j$-ésima linha de $\\mathbf{W}^l$.\n",
    "\n",
    "Com isso, diferenciando, temos:\n",
    "$$\\frac{\\partial z_j^{l}}{\\partial w_{jk}^l} =  a^{l-1}_k.$$\n",
    "\n",
    "Finalmente, substituindo:\n",
    "$$\\frac{\\partial C}{\\partial w^l_{jk}}= \\delta^l_j a^{l-1}_k.$$"
   ]
  },
  {
   "cell_type": "markdown",
   "metadata": {},
   "source": [
    "Temos, assim, todas as equações fundamentais que constituem o algoritmo\n",
    "Backpropagation, e elas nos dão todas as derivadas parciais de que precisamos para treinar nossa rede com o gradiente descendente! Note que o algoritmo Backpropagation é um método geral de computar derivadas parciais em grafos como os utilizados para representar MLPs, e, portanto, pode ser utilizado em outros métodos de otimização!\n",
    "\n",
    "Agora, resta implementarmos. Antes de tudo, é preciso observarmos que, nas equações acima, são utilizados\n",
    "os valores dos outputs de cada camada, ou seja, os $\\mathbf{a}^l, l=1,\\ldots,k-1$, e, portanto,\n",
    "precisamos calculá-los. Esse processo é comumente referenciado como **forward pass**, e funciona como\n",
    "a função `predict`, porém trabalha apenas sobre uma instância e retorna os *outputs* intermediários\n",
    "da rede:"
   ]
  },
  {
   "cell_type": "code",
   "execution_count": 11,
   "metadata": {},
   "outputs": [],
   "source": [
    "    %%add_to MultilayerNeuralNetwork\n",
    "    def forward_pass(self, x):\n",
    "        ''' Given a line vector x, compute the output of each layers. '''\n",
    "        # Set the result of the input layer to be column vectors\n",
    "        a = np.atleast_2d(x).T\n",
    "        # Compute and store the output of each layer, following the definition\n",
    "        A = {}\n",
    "        A[0] = a\n",
    "        for layer in np.arange(1, len(self.arch)):\n",
    "            a = self.sigmoid(np.dot(self.W[layer], a) + self.B[layer])\n",
    "            A[layer] = a\n",
    "        return A"
   ]
  },
  {
   "cell_type": "markdown",
   "metadata": {},
   "source": [
    "Com isso, podemos calcular os gradientes executando primeiro o `forward_pass` e, em seguida, utilizando\n",
    "as quatro equações discutidas acima:"
   ]
  },
  {
   "cell_type": "code",
   "execution_count": 12,
   "metadata": {},
   "outputs": [],
   "source": [
    "    %%add_to MultilayerNeuralNetwork\n",
    "    def compute_gradient(self, x, y):\n",
    "        ''' Use backpropagation equations to compute the gradient of the cost function. '''\n",
    "        # The index of the output layer, L\n",
    "        L = len(self.arch) - 1\n",
    "        # Dicts for gradients\n",
    "        Gw = {}\n",
    "        Gb = {}\n",
    "        # Compute the network output for x input sample\n",
    "        A = self.forward_pass(x)\n",
    "        # Declare what will be set of delta vectors \n",
    "        D = {}\n",
    "        # Compute the error for the last neurons, using Equation 1\n",
    "        y = np.atleast_2d(y).T\n",
    "        deltaL = (A[L] - y) * self.sigmoid_deriv(A[L])\n",
    "        # Include in the D matrix\n",
    "        D[L] = deltaL\n",
    "        # Compute each delta{l} = g(delta{l+1}), using Equation 2\n",
    "        for l in np.arange(L-1, 0, -1):\n",
    "            D[l] = (self.W[l+1].T.dot(D[l+1])) * self.sigmoid_deriv(A[l])\n",
    "        for l in np.arange(L, 0, -1):\n",
    "            # Compute derivatives with respect to biases, using Equation 3\n",
    "            Gb[l] = D[l]\n",
    "            # Compute derivatives with respect to weights, using Equation 4\n",
    "            Gw[l] = D[l].dot(A[l-1].T)\n",
    "        # Return all derivatives\n",
    "        return (Gw, Gb)"
   ]
  },
  {
   "cell_type": "markdown",
   "metadata": {},
   "source": [
    "Nós temos agora todos os componentes para construir uma função de treino, que chamaremos de `fit`. Ela, basicamente, executará todos os métodos criados acima, informando ao usuário dados importantes sobre o processo:"
   ]
  },
  {
   "cell_type": "code",
   "execution_count": 13,
   "metadata": {},
   "outputs": [],
   "source": [
    "    %%add_to MultilayerNeuralNetwork\n",
    "    def fit(self, X, Y, batch_size = 20, epochs = 1000, max_loss = 0.001, displayUpdate = 100):\n",
    "        ''' Train the neural network '''\n",
    "        # Assemble T dataset\n",
    "        D = list(zip(X,Y))\n",
    "        # Store losses for returning\n",
    "        losses = [self.quadratic_loss(X,Y)]\n",
    "        # Loop over epochs\n",
    "        current_epoch = 0\n",
    "        while current_epoch < epochs and losses[current_epoch] > max_loss:\n",
    "            # Optimize using gradient descent\n",
    "            self.stochastic_gradient_descent(D, batch_size)\n",
    "            # Compute and store loss\n",
    "            losses.append(self.quadratic_loss(X,Y))\n",
    "            # Print information\n",
    "            if current_epoch % displayUpdate == 0:\n",
    "                print(\"Epoch: {}, Loss: {:.7f}\".format(current_epoch + 1, losses[current_epoch]))\n",
    "            current_epoch += 1\n",
    "        # Print about stop reason\n",
    "        if losses[current_epoch] < max_loss:\n",
    "            print(\"Stopped by max loss criterion, loss: {:.7f}.\", losses[current_epoch])\n",
    "        elif current_epoch == epochs:\n",
    "            print(\"Stopped by epochs criterion.\")\n",
    "        # Return training information\n",
    "        return (losses, current_epoch)"
   ]
  },
  {
   "cell_type": "markdown",
   "metadata": {},
   "source": [
    "# Utilizando a rede neural\n",
    "\n",
    "Agora que temos nossa rede neural implementada, podemos resolver alguns problemas bastante interessantes. Aqui serão mostrados dois exemplos: o XOR e o reconhecimento de caracteres utilizando o *dataset* MNIST.\n",
    "\n",
    "## XOR\n",
    "\n",
    "XOR é uma operação bem conhecida da lógica proposicional que possui a seguinte tabela verdade:\n",
    "\n",
    "|$x_1$|$x_2$|$y$\n",
    "|---|---|---|\n",
    "|0|0|0|\n",
    "|1|0|1|\n",
    "|0|1|1|\n",
    "|1|1|0|\n",
    "\n",
    "A partir disso, tem-se o *dataset* XOR, composto pelos vetores:\n",
    "$\\langle 0,0 \\rangle, \\langle 1,0 \\rangle, \\langle 0,1 \\rangle, \\langle 1,1 \\rangle$,\n",
    "com os respectivos *labels* $0, 1 , 1, 0$, correspondendo a cada linha da tabela acima. O que acontece se plotarmos \n",
    "$x_1$ no eixo $x$, $x_2$ no eixo $y$ e atribuirmos uma cor para cada um dos dois valores possíveis para $y$? Note:\n"
   ]
  },
  {
   "cell_type": "code",
   "execution_count": 14,
   "metadata": {},
   "outputs": [
    {
     "data": {
      "image/png": "[encoded data removed]",
      "text/plain": [
       "<matplotlib.figure.Figure at 0x7fd47cbfef60>"
      ]
     },
     "metadata": {},
     "output_type": "display_data"
    }
   ],
   "source": [
    "import matplotlib.pyplot as plt\n",
    "\n",
    "x1 = np.array([[0],[1],[0],[1]])\n",
    "x2 = np.array([[0],[0],[1],[1]])\n",
    "\n",
    "plt.scatter(x1,x2,c=['green','red','red','green'])\n",
    "plt.title('The XOR dataset')\n",
    "plt.show()"
   ]
  },
  {
   "cell_type": "markdown",
   "metadata": {},
   "source": [
    "O que há de importante nesse *dataset*? **Não é possível separá-lo utilizando uma reta**! Ou seja, não corresponde a um problema de classificação com classes linearmente separáveis. Um neurônio somente não conseguiria resolvê-lo, mas nossa rede pode! Vamos?"
   ]
  },
  {
   "cell_type": "code",
   "execution_count": 22,
   "metadata": {},
   "outputs": [
    {
     "name": "stdout",
     "output_type": "stream",
     "text": [
      "Epoch: 1, Loss: 0.1457950\n",
      "Epoch: 101, Loss: 0.1255456\n",
      "Epoch: 201, Loss: 0.1243842\n",
      "Epoch: 301, Loss: 0.1232247\n",
      "Epoch: 401, Loss: 0.1219474\n",
      "Epoch: 501, Loss: 0.1204335\n",
      "Epoch: 601, Loss: 0.1185733\n",
      "Epoch: 701, Loss: 0.1162880\n",
      "Epoch: 801, Loss: 0.1135529\n",
      "Epoch: 901, Loss: 0.1104072\n",
      "Epoch: 1001, Loss: 0.1069338\n",
      "Epoch: 1101, Loss: 0.1032101\n",
      "Epoch: 1201, Loss: 0.0992473\n",
      "Epoch: 1301, Loss: 0.0949427\n",
      "Epoch: 1401, Loss: 0.0900672\n",
      "Epoch: 1501, Loss: 0.0843169\n",
      "Epoch: 1601, Loss: 0.0774604\n",
      "Epoch: 1701, Loss: 0.0695468\n",
      "Epoch: 1801, Loss: 0.0610262\n",
      "Epoch: 1901, Loss: 0.0526098\n",
      "Epoch: 2001, Loss: 0.0449340\n",
      "Epoch: 2101, Loss: 0.0383314\n",
      "Epoch: 2201, Loss: 0.0328452\n",
      "Epoch: 2301, Loss: 0.0283583\n",
      "Epoch: 2401, Loss: 0.0247026\n",
      "Epoch: 2501, Loss: 0.0217145\n",
      "Epoch: 2601, Loss: 0.0192557\n",
      "Epoch: 2701, Loss: 0.0172151\n",
      "Epoch: 2801, Loss: 0.0155064\n",
      "Epoch: 2901, Loss: 0.0140626\n",
      "Epoch: 3001, Loss: 0.0128320\n",
      "Epoch: 3101, Loss: 0.0117746\n",
      "Epoch: 3201, Loss: 0.0108589\n",
      "Epoch: 3301, Loss: 0.0100602\n",
      "Epoch: 3401, Loss: 0.0093590\n",
      "Epoch: 3501, Loss: 0.0087395\n",
      "Epoch: 3601, Loss: 0.0081891\n",
      "Epoch: 3701, Loss: 0.0076976\n",
      "Epoch: 3801, Loss: 0.0072565\n",
      "Epoch: 3901, Loss: 0.0068588\n",
      "Epoch: 4001, Loss: 0.0064987\n",
      "Epoch: 4101, Loss: 0.0061715\n",
      "Epoch: 4201, Loss: 0.0058730\n",
      "Epoch: 4301, Loss: 0.0055997\n",
      "Epoch: 4401, Loss: 0.0053488\n",
      "Epoch: 4501, Loss: 0.0051178\n",
      "Epoch: 4601, Loss: 0.0049044\n",
      "Epoch: 4701, Loss: 0.0047068\n",
      "Epoch: 4801, Loss: 0.0045234\n",
      "Epoch: 4901, Loss: 0.0043528\n",
      "Epoch: 5001, Loss: 0.0041937\n",
      "Epoch: 5101, Loss: 0.0040450\n",
      "Epoch: 5201, Loss: 0.0039059\n",
      "Epoch: 5301, Loss: 0.0037753\n",
      "Epoch: 5401, Loss: 0.0036527\n",
      "Epoch: 5501, Loss: 0.0035373\n",
      "Epoch: 5601, Loss: 0.0034285\n",
      "Epoch: 5701, Loss: 0.0033258\n",
      "Epoch: 5801, Loss: 0.0032287\n",
      "Epoch: 5901, Loss: 0.0031368\n",
      "Epoch: 6001, Loss: 0.0030496\n",
      "Epoch: 6101, Loss: 0.0029669\n",
      "Epoch: 6201, Loss: 0.0028883\n",
      "Epoch: 6301, Loss: 0.0028136\n",
      "Epoch: 6401, Loss: 0.0027424\n",
      "Epoch: 6501, Loss: 0.0026745\n",
      "Epoch: 6601, Loss: 0.0026097\n",
      "Epoch: 6701, Loss: 0.0025478\n",
      "Epoch: 6801, Loss: 0.0024886\n",
      "Epoch: 6901, Loss: 0.0024320\n",
      "Epoch: 7001, Loss: 0.0023778\n",
      "Epoch: 7101, Loss: 0.0023258\n",
      "Epoch: 7201, Loss: 0.0022759\n",
      "Epoch: 7301, Loss: 0.0022280\n",
      "Epoch: 7401, Loss: 0.0021820\n",
      "Epoch: 7501, Loss: 0.0021377\n",
      "Epoch: 7601, Loss: 0.0020951\n",
      "Epoch: 7701, Loss: 0.0020541\n",
      "Epoch: 7801, Loss: 0.0020146\n",
      "Epoch: 7901, Loss: 0.0019766\n",
      "Epoch: 8001, Loss: 0.0019398\n",
      "Epoch: 8101, Loss: 0.0019044\n",
      "Epoch: 8201, Loss: 0.0018701\n",
      "Epoch: 8301, Loss: 0.0018370\n",
      "Epoch: 8401, Loss: 0.0018050\n",
      "Epoch: 8501, Loss: 0.0017741\n",
      "Epoch: 8601, Loss: 0.0017441\n",
      "Epoch: 8701, Loss: 0.0017151\n",
      "Epoch: 8801, Loss: 0.0016871\n",
      "Epoch: 8901, Loss: 0.0016598\n",
      "Epoch: 9001, Loss: 0.0016334\n",
      "Epoch: 9101, Loss: 0.0016078\n",
      "Epoch: 9201, Loss: 0.0015830\n",
      "Epoch: 9301, Loss: 0.0015588\n",
      "Epoch: 9401, Loss: 0.0015354\n",
      "Epoch: 9501, Loss: 0.0015126\n",
      "Epoch: 9601, Loss: 0.0014905\n",
      "Epoch: 9701, Loss: 0.0014690\n",
      "Epoch: 9801, Loss: 0.0014481\n",
      "Epoch: 9901, Loss: 0.0014277\n",
      "Epoch: 10001, Loss: 0.0014079\n",
      "Epoch: 10101, Loss: 0.0013886\n",
      "Epoch: 10201, Loss: 0.0013698\n",
      "Epoch: 10301, Loss: 0.0013515\n",
      "Epoch: 10401, Loss: 0.0013336\n",
      "Epoch: 10501, Loss: 0.0013162\n",
      "Epoch: 10601, Loss: 0.0012992\n",
      "Epoch: 10701, Loss: 0.0012827\n",
      "Epoch: 10801, Loss: 0.0012665\n",
      "Epoch: 10901, Loss: 0.0012507\n",
      "Epoch: 11001, Loss: 0.0012353\n",
      "Epoch: 11101, Loss: 0.0012203\n",
      "Epoch: 11201, Loss: 0.0012056\n",
      "Epoch: 11301, Loss: 0.0011913\n",
      "Epoch: 11401, Loss: 0.0011772\n",
      "Epoch: 11501, Loss: 0.0011635\n",
      "Epoch: 11601, Loss: 0.0011501\n",
      "Epoch: 11701, Loss: 0.0011370\n",
      "Epoch: 11801, Loss: 0.0011242\n",
      "Epoch: 11901, Loss: 0.0011116\n",
      "Epoch: 12001, Loss: 0.0010993\n",
      "Epoch: 12101, Loss: 0.0010873\n",
      "Epoch: 12201, Loss: 0.0010755\n",
      "Epoch: 12301, Loss: 0.0010640\n",
      "Epoch: 12401, Loss: 0.0010527\n",
      "Epoch: 12501, Loss: 0.0010416\n",
      "Epoch: 12601, Loss: 0.0010308\n",
      "Epoch: 12701, Loss: 0.0010201\n",
      "Epoch: 12801, Loss: 0.0010097\n",
      "Stopped by max loss criterion, loss: {:.7f}. 0.000999918950218\n"
     ]
    }
   ],
   "source": [
    "# Let's have our dataset D\n",
    "X = np.array([[1,1],[1,0],[0,1],[0,0]])\n",
    "# Let's have our targets, following the truth table presented above\n",
    "y = np.array([[0],[1],[1],[0]])\n",
    "\n",
    "# Now, let's create and train the neural network!\n",
    "xorNetwork = MultilayerNeuralNetwork(arch=[2,2,1], alpha=0.5)\n",
    "(losses, last_epoch) = xorNetwork.fit(X, y, batch_size=4, epochs = 20000, displayUpdate=100, max_loss=0.001)"
   ]
  },
  {
   "cell_type": "markdown",
   "metadata": {},
   "source": [
    "Podemos checar o aprendizado por meio de um gráfico, visto que a função `fit` retorna uma lista com os valores dos custos em cada *epoch*:"
   ]
  },
  {
   "cell_type": "code",
   "execution_count": 23,
   "metadata": {},
   "outputs": [
    {
     "data": {
      "image/png": "[encoded data removed]",
      "text/plain": [
       "<matplotlib.figure.Figure at 0x7fd47d150e10>"
      ]
     },
     "metadata": {},
     "output_type": "display_data"
    }
   ],
   "source": [
    "# List epochs (x-axis)\n",
    "epochs = np.arange(0, last_epoch + 1)\n",
    "# Plot losses\n",
    "plt.title(\"Loss per epoch - XOR dataset\")\n",
    "plt.plot(epochs, losses)\n",
    "plt.show()"
   ]
  },
  {
   "cell_type": "markdown",
   "metadata": {},
   "source": [
    "Com nosso modelo treinado, podemos checar se ele, de fato, resolveu o problema do XOR, ou seja, se ele consegue classificar (separar) corretamente os pontos segundo a tabela verdade:"
   ]
  },
  {
   "cell_type": "code",
   "execution_count": 24,
   "metadata": {},
   "outputs": [
    {
     "name": "stdout",
     "output_type": "stream",
     "text": [
      "Network output: [[ 0.03883568  0.95161933  0.95217085  0.04316045]]\n",
      "In target format: [[ 0.  1.  1.  0.]]\n"
     ]
    }
   ],
   "source": [
    "# Obtain predictions\n",
    "pred = xorNetwork.predict(X)\n",
    "print(\"Network output: \" + str(pred))\n",
    "# Round values for getting the targets we expect\n",
    "print(\"In target format: \" + str(np.round(pred)))"
   ]
  },
  {
   "cell_type": "markdown",
   "metadata": {},
   "source": [
    "## MNIST\n",
    "\n",
    "O MNIST é um *dataset* massivamente utilizado pelos estudiosos de Machine Learning composto\n",
    "por imagens de dígitos de 0 a 9. Ele possui 60000 exemplos de treino e 10000 de testes. \n",
    "Os vetores de características são 784-dimensionais ($28 \\times 28$ pixels por imagem),\n",
    "com componentes assumindo valores em $[0,255]$. O propósito é corretamente classificar\n",
    "os dígitos desse *dataset*!\n",
    "\n",
    "A biblioteca `sklearn` oferece uma amostra do MNIST por meio de comandos simples. \n",
    "Para concluir este *notebook*, vamos utilizá-los para obter uma parte desse *dataset* e, com ela,\n",
    "treinar uma rede neural especializada em classificar\n",
    "imagens de dígitos de 0 a 9! Repare que o código é praticamente o mesmo para o treinamento que fizemos\n",
    "com o *dataset* XOR:"
   ]
  },
  {
   "cell_type": "code",
   "execution_count": 25,
   "metadata": {},
   "outputs": [
    {
     "name": "stdout",
     "output_type": "stream",
     "text": [
      "[INFO] loading MNIST dataset\n",
      "[INFO] samples: 1797, dim: 64\n",
      "[INFO] training network...\n",
      "Epoch: 1, Loss: 1.5819163\n",
      "Epoch: 11, Loss: 0.1432953\n",
      "Epoch: 21, Loss: 0.0436310\n",
      "Epoch: 31, Loss: 0.0253904\n",
      "Epoch: 41, Loss: 0.0178175\n",
      "Epoch: 51, Loss: 0.0130532\n",
      "Epoch: 61, Loss: 0.0094908\n",
      "Epoch: 71, Loss: 0.0073073\n",
      "Epoch: 81, Loss: 0.0056128\n",
      "Epoch: 91, Loss: 0.0043927\n",
      "Stopped by epochs criterion.\n"
     ]
    }
   ],
   "source": [
    "# Import sklearn tools\n",
    "from sklearn.preprocessing import LabelBinarizer\n",
    "from sklearn.model_selection import train_test_split\n",
    "from sklearn.metrics import classification_report\n",
    "from sklearn import datasets\n",
    "\n",
    "# Load a sample of MNIST through simple sklearn commands\n",
    "print(\"[INFO] loading MNIST dataset\")\n",
    "digits = datasets.load_digits()\n",
    "data = digits.data.astype(\"float\")\n",
    "data = (data - data.min()) / (data.max() - data.min())    # normalize data\n",
    "print(\"[INFO] samples: {}, dim: {}\".format(data.shape[0], data.shape[1]))\n",
    "\n",
    "# Split the dataset into train and test\n",
    "(trainX, testX, trainY, testY) = train_test_split(data, digits.target, test_size=0.25)\n",
    "\n",
    "# Binarize labels, such that, for example, the target 5 becomes the row vector (0,0,0,0,0,1,0,0,0,0)\n",
    "trainY = LabelBinarizer().fit_transform(trainY)\n",
    "testY = LabelBinarizer().fit_transform(testY)\n",
    "\n",
    "# Train the neural network\n",
    "print(\"[INFO] training network...\")\n",
    "mnistNN = MultilayerNeuralNetwork(arch=[trainX.shape[1], 32, 16, 10], alpha=0.1)\n",
    "(losses, last_epoch) = mnistNN.fit(trainX, trainY, epochs=100, batch_size=1, max_loss=0.00001, displayUpdate=10)"
   ]
  },
  {
   "cell_type": "markdown",
   "metadata": {},
   "source": [
    "Observemos também o gráfico do custo por *epoch*:"
   ]
  },
  {
   "cell_type": "code",
   "execution_count": 26,
   "metadata": {},
   "outputs": [
    {
     "data": {
      "image/png": "[encoded data removed]",
      "text/plain": [
       "<matplotlib.figure.Figure at 0x7fd46a3b0160>"
      ]
     },
     "metadata": {},
     "output_type": "display_data"
    }
   ],
   "source": [
    "epochs = np.arange(0, last_epoch + 1)\n",
    "\n",
    "plt.plot(epochs, losses)\n",
    "plt.show()"
   ]
  },
  {
   "cell_type": "markdown",
   "metadata": {},
   "source": [
    "Uma vez treinada a rede, podemos checar seu desempenho no conjunto de testes, por meio da função `classification_report`, que fornece índices de desempenho:"
   ]
  },
  {
   "cell_type": "code",
   "execution_count": 27,
   "metadata": {},
   "outputs": [
    {
     "name": "stdout",
     "output_type": "stream",
     "text": [
      "[INFO] evaluating network...\n",
      "(450, 64)\n",
      "             precision    recall  f1-score   support\n",
      "\n",
      "          0       1.00      1.00      1.00        44\n",
      "          1       0.93      1.00      0.97        43\n",
      "          2       0.93      1.00      0.96        38\n",
      "          3       0.97      0.92      0.94        36\n",
      "          4       0.98      0.98      0.98        49\n",
      "          5       0.97      0.93      0.95        41\n",
      "          6       1.00      0.98      0.99        47\n",
      "          7       0.97      0.95      0.96        60\n",
      "          8       0.93      0.95      0.94        43\n",
      "          9       0.96      0.94      0.95        49\n",
      "\n",
      "avg / total       0.97      0.96      0.96       450\n",
      "\n"
     ]
    }
   ],
   "source": [
    "print(\"[INFO] evaluating network...\")\n",
    "# Test the model\n",
    "print(testX.shape)\n",
    "# Obtain predictions\n",
    "predictions = mnistNN.predict(testX)\n",
    "# Transform binary vectors in digits 0-9\n",
    "predictions = predictions.T.argmax(axis=1)\n",
    "# Print classification report\n",
    "print(classification_report(testY.argmax(axis=1), predictions))"
   ]
  },
  {
   "cell_type": "markdown",
   "metadata": {},
   "source": [
    "# Referências\n",
    "\n",
    "[1] Michael Nielsen. *Neural Networks and Deep Learning*. Determination Press. Disponível em: http://neuralnetworksanddeeplearning.com/\n",
    "\n",
    "[2] Adrian Rosebrock. *Deep Learning for Computer Vision with Python*. 1st ed. https://www.pyimagesearch.com: PyImageSearch."
   ]
  }
 ],
 "metadata": {
  "kernelspec": {
   "display_name": "Python 3",
   "language": "python",
   "name": "python3"
  },
  "language_info": {
   "codemirror_mode": {
    "name": "ipython",
    "version": 3
   },
   "file_extension": ".py",
   "mimetype": "text/x-python",
   "name": "python",
   "nbconvert_exporter": "python",
   "pygments_lexer": "ipython3",
   "version": "3.6.3"
  }
 },
 "nbformat": 4,
 "nbformat_minor": 2
}
