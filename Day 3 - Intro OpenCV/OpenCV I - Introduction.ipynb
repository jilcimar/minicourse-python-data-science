{
 "cells": [
  {
   "cell_type": "markdown",
   "metadata": {},
   "source": [
    "# OpenCV - Open Source Computer Vision Library"
   ]
  },
  {
   "cell_type": "markdown",
   "metadata": {},
   "source": [
    "OpenCV (Open Source Computer Vision Library) is an open source computer vision and machine learning software library. OpenCV was built to provide a common infrastructure for computer vision applications and to accelerate the use of machine perception in the commercial products. Being a BSD-licensed product, OpenCV makes it easy for businesses to utilize and modify the code. [1]"
   ]
  },
  {
   "cell_type": "code",
   "execution_count": null,
   "metadata": {},
   "outputs": [],
   "source": [
    "# Importing OpenCV library\n",
    "import cv2\n",
    "\n",
    "# Importing library to show our images\n",
    "from matplotlib import pyplot as plt\n",
    "\n",
    "# Importing library to manipulate our images\n",
    "import numpy as np"
   ]
  },
  {
   "cell_type": "markdown",
   "metadata": {},
   "source": [
    "## 1 - Image representation on computer\n",
    "\n",
    "<center>\n",
    "    <figure style=\"margin-top:20px\">\n",
    "        <img src=\"https://naushadsblog.files.wordpress.com/2014/01/pixel.gif?w=300&h=225\">\n",
    "        <figcaption style=\"margin-top:20px\">Figura 1 - Image representation on computer. Taken from <a href=\"https://naushadsblog.wordpress.com/2014/02/10/image-processing-and-computer-vision-in-java-point-operators-part-2histogram-equalization/\">Naushadsblog</a>.</figcaption>\n",
    "    </figure>\n",
    "</center>"
   ]
  },
  {
   "cell_type": "markdown",
   "metadata": {},
   "source": [
    "## 2 - Reading and showing images"
   ]
  },
  {
   "cell_type": "code",
   "execution_count": null,
   "metadata": {},
   "outputs": [],
   "source": [
    "# Reading our first image (in BGR)\n",
    "img = cv2.imread(\"images/cs.jpg\")\n",
    "\n",
    "# Showing our image\n",
    "plt.axis(\"off\")\n",
    "plt.imshow(img)\n",
    "plt.show()"
   ]
  },
  {
   "cell_type": "code",
   "execution_count": null,
   "metadata": {},
   "outputs": [],
   "source": [
    "# Reading the image in gray\n",
    "img = cv2.imread(\"images/cs.jpg\", 0)\n",
    "\n",
    "# Showing our image\n",
    "plt.axis(\"off\")\n",
    "plt.imshow(img, cmap='gray')\n",
    "plt.show()"
   ]
  },
  {
   "cell_type": "markdown",
   "metadata": {},
   "source": [
    "## 3 - Color spaces\n",
    "\n",
    "The purpose of a color model (also called color space or color system) is to facilitate the specification of colors in some standard, generally accepted way. In essence, a color model is a specification of a coordinate system and a subspace within that system where each color is represented by a single point. [4]\n",
    "\n",
    "<center style=\"clear:both\">\n",
    "    <figure style=\"margin-top:20px; float:left; margin-left: 50px\">\n",
    "        <img src=\"https://wiki.mcneel.com/_media/legacy/en/rhpicture_rgbcolourspace.png?cache=&w=400&h=397&tok=757c04\" width=\"250\">\n",
    "        <figcaption style=\"margin-top:20px\">Figura 1 - RGB color space, taken from <a href=\"https://wiki.mcneel.com\">McNeel Wiki</a>.</figcaption>\n",
    "    </figure>    \n",
    "    <figure style=\"margin-top:20px; float:right; margin-right: 100px\">\n",
    "        <img src=\"https://www.mathworks.com/help/images/hsvcone.gif\" width=\"260\">\n",
    "        <figcaption style=\"margin-top:20px\">Figura 2 - HSV color space, taken from <a href=\"https://www.mathworks.com\">Mathworks</a>.</figcaption>\n",
    "    </figure>\n",
    "</center>\n",
    "\n",
    "<div style=\"margin-top:20px;float:left;clear:both\">\n",
    "A color model is an abstract mathematical model describing the way colors can be represented as tuples of numbers (e.g. triples in RGB). [5]\n",
    "</div>\n",
    "\n",
    "<center>\n",
    "    <figure style=\"margin-top:20px\">\n",
    "        <img src=\"https://upload.wikimedia.org/wikipedia/commons/thumb/3/33/Beyoglu_4671_tricolor.png/800px-Beyoglu_4671_tricolor.png\" width=\"500\">\n",
    "        <figcaption style=\"margin-top:20px\">Figura 3 - RGB decomposition of the image. The diagram is taken from <a href=\"http://www.wikiwand.com\">Wikiwand</a>.</figcaption>\n",
    "    </figure>\n",
    "</center>"
   ]
  },
  {
   "cell_type": "code",
   "execution_count": null,
   "metadata": {},
   "outputs": [],
   "source": [
    "img = cv2.imread(\"images/cs.jpg\")\n",
    "\n",
    "# Create figure to show original image\n",
    "plt.figure()\n",
    "plt.axis(\"off\")\n",
    "plt.imshow(img)\n",
    "plt.show()\n",
    "\n",
    "# Converting our BGR image to gray\n",
    "gray_img = cv2.cvtColor(img, cv2.COLOR_BGR2GRAY)\n",
    "\n",
    "# Create figure to show gray image\n",
    "plt.figure()\n",
    "plt.axis(\"off\")\n",
    "plt.imshow(gray_img, cmap='gray')\n",
    "plt.show()\n",
    "\n",
    "# Converting our BGR image to RGB\n",
    "rgb_img = cv2.cvtColor(img, cv2.COLOR_BGR2RGB)\n",
    "\n",
    "# Create figure to show RGB image\n",
    "plt.figure()\n",
    "plt.axis(\"off\")\n",
    "plt.imshow(rgb_img)\n",
    "plt.show()\n"
   ]
  },
  {
   "cell_type": "markdown",
   "metadata": {},
   "source": [
    "## Observation \n",
    "\n",
    "*If you aren't using jupyter notebook, you don't need use matplotlib to show your images, you may use only the OpenCV to read and show images. For more informations, look the references [2] [3].*\n",
    "\n"
   ]
  },
  {
   "cell_type": "markdown",
   "metadata": {},
   "source": [
    "## 4 - Getting informations about our images\n",
    "### 4.1) Shape of image"
   ]
  },
  {
   "cell_type": "code",
   "execution_count": null,
   "metadata": {},
   "outputs": [],
   "source": [
    "# Discovering the shape of our image\n",
    "rows,cols,channels = rgb_img.shape\n",
    "\n",
    "print(\"Number of rows: \" + str(rows))\n",
    "print(\"Number of cols: \" + str(cols))\n",
    "print(\"Number of channels: \" + str(channels))"
   ]
  },
  {
   "cell_type": "markdown",
   "metadata": {},
   "source": [
    "## 5 - Manipulation of pixels"
   ]
  },
  {
   "cell_type": "code",
   "execution_count": null,
   "metadata": {},
   "outputs": [],
   "source": [
    "# Discovering the values of the channels of pixel (0,0)\n",
    "(r, g, b) = img[0, 0]\n",
    "print (\"Pixel at (0, 0) - Red: %d, Green: %d, Blue: %d\" % (r, g, b))\n",
    "\n",
    "other_img = rgb_img.copy();\n",
    "\n",
    "# Changing the value of some pixels\n",
    "for i in range (round(rows/2)):\n",
    "    for j in range (round(cols/2)):\n",
    "        other_img[i, j] = (255, 0, 0)\n",
    "        \n",
    "plt.figure()\n",
    "plt.axis(\"off\")\n",
    "plt.imshow(other_img)\n",
    "plt.show()\n",
    "\n",
    "(r, g, b) = other_img[0, 0]\n",
    "print (\"New value of pixel at (0, 0) - Red: %d, Green: %d, Blue: %d\" % (r, g, b))\n",
    "\n",
    "# It is possible update the values of pixels using ranges\n",
    "other_img = rgb_img.copy()\n",
    "other_img[0:round(rows/2), 0:round(cols/2) ] = (0, 255, 0)\n",
    "\n",
    "plt.figure()\n",
    "plt.axis(\"off\")\n",
    "plt.imshow(other_img)\n",
    "plt.show()"
   ]
  },
  {
   "cell_type": "markdown",
   "metadata": {},
   "source": [
    "## 6 - Geometric shapes\n",
    "### 6.1) Line\n",
    "\n",
    "To draw a line, it's possible use the following function:\n",
    "\n",
    "<br/>\n",
    "\n",
    "<center>\n",
    "    <strong>cv2.line(img, pt1, pt2, color[, thickness[, lineType[, shift]]]) → img</strong>\n",
    "</center>\n",
    "\n",
    "where:\n",
    "\n",
    "<ul>\n",
    "    <li><i>img</i> – Image.</li>\n",
    "    <li><i>pt1</i> – First point of the line segment.</li>\n",
    "    <li><i>pt2</i> – Second point of the line segment.</li>\n",
    "    <li><i>color</i> – Line color.</li>\n",
    "    <li><i>thickness</i> – Line thickness.</li>\n",
    "    <li><i>lineType</i> – \n",
    "        <ul>\n",
    "            <li><b>LINE_8 (or omitted)</b> – 8-connected line.</li>\n",
    "            <li><b>LINE_4</b> – 4-connected line.</li>\n",
    "            <li><b>LINE_AA</b> – antialiased line.</li>\n",
    "        </ul>\n",
    "    </li>\n",
    "    <li><i>shift</i> – Number of fractional bits in the point coordinates.</li>\n",
    "</ul>"
   ]
  },
  {
   "cell_type": "code",
   "execution_count": null,
   "metadata": {},
   "outputs": [],
   "source": [
    "# Create an image to draw a line\n",
    "line_img = np.zeros((300, 300, 3), dtype = \"uint8\")\n",
    "\n",
    "cv2.line(line_img,(0,0),(299,299),(0,255,0))\n",
    "\n",
    "plt.axis(\"off\")\n",
    "plt.imshow(line_img)\n",
    "plt.show()"
   ]
  },
  {
   "cell_type": "markdown",
   "metadata": {},
   "source": [
    "### 6.2) Rectangle\n",
    "\n",
    "To draw a rectangle, it's possible use the following function:\n",
    "\n",
    "<br/>\n",
    "\n",
    "<center>\n",
    "    <strong>cv2.rectange(img, pt1, pt2, color[, thickness[, lineType[, shift]]]) → img</strong>\n",
    "</center>\n",
    "\n",
    "where:\n",
    "\n",
    "<ul>\n",
    "    <li><i>img</i> – Image.</li>\n",
    "    <li><i>pt1</i> – Vertex of the rectangle.</li>\n",
    "    <li><i>pt2</i> – Vertex of the rectangle opposite to pt1.</li>\n",
    "    <li><i>color</i> – Rectangle color or brightness (grayscale image).</li>\n",
    "    <li><i>thickness</i> – Thickness of lines that make up the rectangle. Negative values, like CV_FILLED , mean that the function has to draw a filled rectangle.</li>\n",
    "    <li><i>lineType</i> – \n",
    "        <ul>\n",
    "            <li><b>LINE_8 (or omitted)</b> – 8-connected line.</li>\n",
    "            <li><b>LINE_4</b> – 4-connected line.</li>\n",
    "            <li><b>LINE_AA</b> – antialiased line.</li>\n",
    "        </ul>\n",
    "    </li>\n",
    "    <li><i>shift</i> – Number of fractional bits in the point coordinates.</li>\n",
    "</ul>"
   ]
  },
  {
   "cell_type": "code",
   "execution_count": null,
   "metadata": {},
   "outputs": [],
   "source": [
    "# Create an image to draw a rectangle\n",
    "rect_img = np.zeros((300, 300, 3), dtype = \"uint8\")\n",
    "\n",
    "# Draw an unfilled rectangle\n",
    "cv2.rectangle(rect_img,(10,10),(290,290),(0,255,0), 2)\n",
    "\n",
    "plt.figure()\n",
    "plt.axis(\"off\")\n",
    "plt.imshow(rect_img)\n",
    "plt.show()\n",
    "\n",
    "rect_img = np.zeros((300, 300, 3), dtype = \"uint8\")\n",
    "\n",
    "# Draw a filled rectangle\n",
    "cv2.rectangle(rect_img,(10,10),(290,290),(0,255,0), cv2.FILLED)\n",
    "\n",
    "plt.figure()\n",
    "plt.axis(\"off\")\n",
    "plt.imshow(rect_img)\n",
    "plt.show()"
   ]
  },
  {
   "cell_type": "markdown",
   "metadata": {},
   "source": [
    "### 6.3) Circle\n",
    "\n",
    "To draw a circle, it's possible use the following function:\n",
    "\n",
    "<br/>\n",
    "\n",
    "<center>\n",
    "    <strong>cv2.circle(img, center, radius, color[, thickness[, lineType[, shift]]]) → img</strong>\n",
    "</center>\n",
    "\n",
    "where:\n",
    "\n",
    "<ul>\n",
    "    <li><i>img</i> – Image where the circle is drawn.</li>\n",
    "    <li><i>center</i> – Center of the circle.</li>\n",
    "    <li><i>radius</i> – Radius of the circle.</li>\n",
    "    <li><i>color</i> – Circle color.</li>\n",
    "    <li><i>thickness</i> – Thickness of the circle outline, if positive. Negative thickness means that a filled circle is to be drawn.</li>\n",
    "    <li><i>lineType</i> – \n",
    "        <ul>\n",
    "            <li><b>LINE_8 (or omitted)</b> – 8-connected line.</li>\n",
    "            <li><b>LINE_4</b> – 4-connected line.</li>\n",
    "            <li><b>LINE_AA</b> – antialiased line.</li>\n",
    "        </ul>\n",
    "    </li>\n",
    "    <li><i>shift</i> – Number of fractional bits in the coordinates of the center and in the radius value.</li>\n",
    "</ul>"
   ]
  },
  {
   "cell_type": "code",
   "execution_count": null,
   "metadata": {
    "scrolled": false
   },
   "outputs": [],
   "source": [
    "# Create an image to draw a circle\n",
    "circle_img = np.zeros((300, 300, 3), dtype = \"uint8\")\n",
    "\n",
    "centerX = 150\n",
    "centerY = 150\n",
    "\n",
    "# Drawing an unfilled circle\n",
    "cv2.circle(circle_img, (centerX, centerY), round(centerY/2), (0, 255, 0), 2)\n",
    "\n",
    "plt.figure()\n",
    "plt.axis(\"off\")\n",
    "plt.imshow(circle_img)\n",
    "plt.show()\n",
    "\n",
    "# Drawing a filled circle\n",
    "cv2.circle(circle_img, (centerX, centerY), round(centerY/2), (0, 255, 0), cv2.FILLED)\n",
    "\n",
    "plt.figure()\n",
    "plt.axis(\"off\")\n",
    "plt.imshow(circle_img)\n",
    "plt.show()"
   ]
  },
  {
   "cell_type": "markdown",
   "metadata": {},
   "source": [
    "### 6.4) Ellipse\n",
    "\n",
    "To draw an ellipse, it's possible use the following function:\n",
    "\n",
    "<br/>\n",
    "\n",
    "<center>\n",
    "    <strong>cv2.ellipse(img, center, axes, angle, startAngle, endAngle, color[, thickness[, lineType[, shift]]]) → img</strong>\n",
    "</center>\n",
    "\n",
    "where:\n",
    "\n",
    "<ul>\n",
    "    <li><i>img</i> – Image where the ellipse is drawn.</li>\n",
    "    <li><i>center</i> – Center of the ellipse.</li>\n",
    "    <li><i>axes</i> – Half of the size of the ellipse main axes.</li>\n",
    "    <li><i>angle</i> – Ellipse rotation angle in degrees.</li>\n",
    "    <li><i>startAngle</i> – Starting angle of the elliptic arc in degrees.</li>\n",
    "    <li><i>endAngle</i> – Ending angle of the elliptic arc in degrees.</li>\n",
    "    <li><i>color</i> – Ellipse color.</li>\n",
    "    <li><i>thickness</i> – Thickness of the ellipse arc outline, if positive. Otherwise, this indicates that a filled ellipse sector is to be drawn.</li>\n",
    "    <li><i>lineType</i> – \n",
    "        <ul>\n",
    "            <li><b>LINE_8 (or omitted)</b> – 8-connected line.</li>\n",
    "            <li><b>LINE_4</b> – 4-connected line.</li>\n",
    "            <li><b>LINE_AA</b> – antialiased line.</li>\n",
    "        </ul>\n",
    "    </li>\n",
    "    <li><i>shift</i> – Number of fractional bits in the coordinates of the center and values of axes.</li>\n",
    "</ul>"
   ]
  },
  {
   "cell_type": "code",
   "execution_count": null,
   "metadata": {},
   "outputs": [],
   "source": [
    "# Create an image to draw an ellipse\n",
    "ellipse_img = np.zeros((300, 300, 3), dtype = \"uint8\")\n",
    "\n",
    "# Draw an unfilled ellipse\n",
    "cv2.ellipse(ellipse_img,(centerX,centerY),(100,100),30,0,300,(255,255,0), 5)\n",
    "\n",
    "plt.figure()\n",
    "plt.axis(\"off\")\n",
    "plt.imshow(ellipse_img)\n",
    "plt.show()\n",
    "\n",
    "ellipse_img = np.zeros((300, 300, 3), dtype = \"uint8\")\n",
    "\n",
    "# Draw a filled ellipse\n",
    "cv2.ellipse(ellipse_img,(centerX,centerY),(100,100),30,0,300,(255,255,0), cv2.FILLED)\n",
    "\n",
    "plt.figure()\n",
    "plt.axis(\"off\")\n",
    "plt.imshow(ellipse_img)\n",
    "plt.show()"
   ]
  },
  {
   "cell_type": "markdown",
   "metadata": {},
   "source": [
    "### 6.5) Text\n",
    "\n",
    "To write a text, it's possible use the following function:\n",
    "\n",
    "<br/>\n",
    "\n",
    "<center>\n",
    "    <strong>cv2.putText(img, text, org, fontFace, fontScale, color[, thickness[, lineType[, bottomLeftOrigin]]]) → img</strong>\n",
    "</center>\n",
    "\n",
    "where:\n",
    "\n",
    "<ul>\n",
    "    <li><i>img</i> – Image.</li>\n",
    "    <li><i>text</i> – Text string to be drawn.</li>\n",
    "    <li><i>org</i> – Bottom-left corner of the text string in the image.</li>\n",
    "    <li><i>fontFace</i> – Font type. One of FONT_HERSHEY_SIMPLEX, FONT_HERSHEY_PLAIN, FONT_HERSHEY_DUPLEX, FONT_HERSHEY_COMPLEX, FONT_HERSHEY_TRIPLEX, FONT_HERSHEY_COMPLEX_SMALL, FONT_HERSHEY_SCRIPT_SIMPLEX, or FONT_HERSHEY_SCRIPT_COMPLEX.</li>\n",
    "    <li><i>fontScale</i> – Font scale factor that is multiplied by the font-specific base size.</li>\n",
    "    <li><i>color</i> – Text color.</li>\n",
    "    <li><i>thickness</i> – Thickness of the lines used to draw a text.</li>\n",
    "    <li><i>lineType</i> – \n",
    "        <ul>\n",
    "            <li><b>LINE_8 (or omitted)</b> – 8-connected line.</li>\n",
    "            <li><b>LINE_4</b> – 4-connected line.</li>\n",
    "            <li><b>LINE_AA</b> – antialiased line.</li>\n",
    "        </ul>\n",
    "    </li>\n",
    "    <li><i>bottomLeftOrigin</i> – When true, the image data origin is at the bottom-left corner. Otherwise, it is at the top-left corner.</li>\n",
    "</ul>"
   ]
  },
  {
   "cell_type": "code",
   "execution_count": null,
   "metadata": {},
   "outputs": [],
   "source": [
    "# Create an image to write a text\n",
    "text_img = np.zeros((300, 300, 3), dtype = \"uint8\")\n",
    "\n",
    "# Draw an unfilled ellipse\n",
    "cv2.putText(text_img,'Computer Society',(10,160),cv2.FONT_HERSHEY_SIMPLEX,1,(0,255,0),2)\n",
    "\n",
    "plt.axis(\"off\")\n",
    "plt.imshow(text_img)\n",
    "plt.show()"
   ]
  },
  {
   "cell_type": "markdown",
   "metadata": {},
   "source": [
    "## Referências\n",
    "\n",
    "[1] OpenCV library. 2018. OpenCV library. [ONLINE] Available at: https://opencv.org/. [Accessed 26 April 2018].\n",
    "\n",
    "[2] GitHub. 2018. GitHub - Vinihcampos/introducao-opencv: Minicurso de Introdução a Visão Computacional com OpenCV. [ONLINE] Available at: https://github.com/Vinihcampos/introducao-opencv. [Accessed 27 April 2018].\n",
    "\n",
    "[3] Getting Started with Images — OpenCV 3.0.0-dev documentation. 2018. Getting Started with Images — OpenCV 3.0.0-dev documentation. [ONLINE] Available at: https://docs.opencv.org/3.0-beta/doc/py_tutorials/py_gui/py_image_display/py_image_display.html. [Accessed 27 April 2018].\n",
    "\n",
    "[4] Gonzalez, Rafael C., and Richard E. Woods. Digital image processing. Upper Saddle River, N.J: Prentice Hall, 2008. Print.\n",
    "\n",
    "[5] Color space - Wikipedia. 2018. Color space - Wikipedia. [ONLINE] Available at: https://en.wikipedia.org/wiki/Color_space. [Accessed 27 April 2018]."
   ]
  }
 ],
 "metadata": {
  "kernelspec": {
   "display_name": "Python 3",
   "language": "python",
   "name": "python3"
  },
  "language_info": {
   "codemirror_mode": {
    "name": "ipython",
    "version": 3
   },
   "file_extension": ".py",
   "mimetype": "text/x-python",
   "name": "python",
   "nbconvert_exporter": "python",
   "pygments_lexer": "ipython3",
   "version": "3.6.4"
  }
 },
 "nbformat": 4,
 "nbformat_minor": 2
}
