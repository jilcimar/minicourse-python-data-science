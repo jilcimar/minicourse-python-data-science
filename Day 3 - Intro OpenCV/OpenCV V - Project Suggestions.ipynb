{
 "cells": [
  {
   "cell_type": "markdown",
   "metadata": {},
   "source": [
    "# Project Suggestions\n",
    "\n"
   ]
  },
  {
   "cell_type": "markdown",
   "metadata": {},
   "source": [
    "## 1) Face Detection\n",
    "\n",
    "Using the Haar Cascade and one of the classifiers for faces: **classifiers/haarcascade_frontalface_alt.xml, classifiers/haarcascade_frontalface_alt2.xml, ** and **classifiers/haarcascade_frontalface_default.xml**, try to detect faces of images. \n",
    "\n",
    "<center>\n",
    "    <figure style=\"margin-top:20px\">\n",
    "        <img src=\"images/face_detection.jpg\" width=\"500\">\n",
    "    </figure>\n",
    "</center>"
   ]
  },
  {
   "cell_type": "markdown",
   "metadata": {},
   "source": [
    "## 2) People Detection\n",
    "\n",
    "Using the Haar Cascade and the classifier **classifiers/haarcascade_fullbody.xml** to detect people in images.\n",
    "\n",
    "<center>\n",
    "    <figure style=\"margin-top:20px\">\n",
    "        <img src=\"images/peopleDetection.png\" width=\"500\">\n",
    "    </figure>\n",
    "</center>"
   ]
  },
  {
   "cell_type": "markdown",
   "metadata": {},
   "source": [
    "## 3) Lamp Counting\n",
    "\n",
    "Using Thresholding and Connected Components, try to count the number of spots of light in images.\n",
    "\n",
    "<center>\n",
    "    <figure style=\"margin-top:20px\">\n",
    "        <img src=\"images/lamp_counting.png\" width=\"500\">\n",
    "    </figure>\n",
    "</center>"
   ]
  },
  {
   "cell_type": "markdown",
   "metadata": {},
   "source": [
    "## 4) Car Detection\n",
    "\n",
    "Using the Haar Cascade and the classifier **classifiers/cars.xml** to detect cars in images.\n",
    "\n",
    "<center>\n",
    "    <figure style=\"margin-top:20px\">\n",
    "        <img src=\"images/car_detection.jpg\" width=\"500\">\n",
    "    </figure>\n",
    "</center>"
   ]
  },
  {
   "cell_type": "markdown",
   "metadata": {},
   "source": [
    "## 5) Movement Detection\n",
    "\n",
    "Using an image base, try to detect some movement, using thresholding and logic operations between images to perform this operation.\n",
    "\n",
    "<center>\n",
    "    <figure style=\"margin-top:20px\">\n",
    "        <img src=\"images/movement_tracking.png\" width=\"900\">\n",
    "    </figure>\n",
    "</center>"
   ]
  }
 ],
 "metadata": {
  "kernelspec": {
   "display_name": "Python 3",
   "language": "python",
   "name": "python3"
  },
  "language_info": {
   "codemirror_mode": {
    "name": "ipython",
    "version": 3
   },
   "file_extension": ".py",
   "mimetype": "text/x-python",
   "name": "python",
   "nbconvert_exporter": "python",
   "pygments_lexer": "ipython3",
   "version": "3.6.4"
  }
 },
 "nbformat": 4,
 "nbformat_minor": 2
}
